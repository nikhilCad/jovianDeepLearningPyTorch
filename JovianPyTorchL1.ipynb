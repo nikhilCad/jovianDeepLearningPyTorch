{
  "nbformat": 4,
  "nbformat_minor": 0,
  "metadata": {
    "colab": {
      "name": "JovianPyTorch.ipynb",
      "provenance": [],
      "collapsed_sections": []
    },
    "kernelspec": {
      "name": "python3",
      "display_name": "Python 3"
    },
    "language_info": {
      "name": "python"
    }
  },
  "cells": [
    {
      "cell_type": "code",
      "execution_count": null,
      "metadata": {
        "id": "-VZBcGXJtN5m"
      },
      "outputs": [],
      "source": [
        "#LECTURE 1"
      ]
    },
    {
      "cell_type": "code",
      "source": [
        "#pytorch pre-installed on colab\n",
        "import torch"
      ],
      "metadata": {
        "id": "Inh7--JhtU6y"
      },
      "execution_count": 1,
      "outputs": []
    },
    {
      "cell_type": "code",
      "source": [
        "#A tensor is a number, vector, matrix, or any n-dimensional array. Let's create a tensor with a single number.\n",
        "\n",
        "# Number\n",
        "t1 = torch.tensor(4.)#4. short for 4.0\n",
        "print(t1)\n",
        "print(t1.dtype)\n",
        "\n",
        "# Vector\n",
        "t2 = torch.tensor([1., 2, 3, 4])\n",
        "print(t2)\n",
        "\n",
        "# Matrix\n",
        "t3 = torch.tensor([[5., 6], \n",
        "                   [7, 8], \n",
        "                   [9, 10]])\n",
        "print(t3)\n",
        "\n",
        "# 3-dimensional array\n",
        "t4 = torch.tensor([\n",
        "    [[11, 12, 13], \n",
        "     [13, 14, 15]], \n",
        "    [[15, 16, 17], \n",
        "     [17, 18, 19.]]])\n",
        "print(t4)\n",
        "\n",
        "print(\"\")\n",
        "print(t1)\n",
        "print(t1.shape)\n",
        "\n",
        "print(\"\")\n",
        "print(t2)\n",
        "print(t2.shape)\n",
        "\n",
        "print(\"\")\n",
        "print(t3)\n",
        "print(t3.shape)\n",
        "\n",
        "print(\"\")\n",
        "print(t4)\n",
        "print(t4.shape)"
      ],
      "metadata": {
        "colab": {
          "base_uri": "https://localhost:8080/"
        },
        "id": "Z0KLxKMLth2E",
        "outputId": "945a91ed-b551-40fa-e6e5-808db8989542"
      },
      "execution_count": 11,
      "outputs": [
        {
          "output_type": "stream",
          "name": "stdout",
          "text": [
            "tensor(4.)\n",
            "torch.float32\n",
            "tensor([1., 2., 3., 4.])\n",
            "tensor([[ 5.,  6.],\n",
            "        [ 7.,  8.],\n",
            "        [ 9., 10.]])\n",
            "tensor([[[11., 12., 13.],\n",
            "         [13., 14., 15.]],\n",
            "\n",
            "        [[15., 16., 17.],\n",
            "         [17., 18., 19.]]])\n",
            "\n",
            "tensor(4.)\n",
            "torch.Size([])\n",
            "\n",
            "tensor([1., 2., 3., 4.])\n",
            "torch.Size([4])\n",
            "\n",
            "tensor([[ 5.,  6.],\n",
            "        [ 7.,  8.],\n",
            "        [ 9., 10.]])\n",
            "torch.Size([3, 2])\n",
            "\n",
            "tensor([[[11., 12., 13.],\n",
            "         [13., 14., 15.]],\n",
            "\n",
            "        [[15., 16., 17.],\n",
            "         [17., 18., 19.]]])\n",
            "torch.Size([2, 2, 3])\n"
          ]
        }
      ]
    },
    {
      "cell_type": "code",
      "source": [
        "#not possible to create tensors with an improper shape.\n",
        "# Matrix\n",
        "t5 = torch.tensor([[5., 6, 11], \n",
        "                   [7, 8], \n",
        "                   [9, 10]])\n",
        "t5"
      ],
      "metadata": {
        "colab": {
          "base_uri": "https://localhost:8080/",
          "height": 217
        },
        "id": "V0ets0UwubtH",
        "outputId": "0ecbab31-041b-4015-e4d2-963db01a1e97"
      },
      "execution_count": 5,
      "outputs": [
        {
          "output_type": "error",
          "ename": "ValueError",
          "evalue": "ignored",
          "traceback": [
            "\u001b[0;31m---------------------------------------------------------------------------\u001b[0m",
            "\u001b[0;31mValueError\u001b[0m                                Traceback (most recent call last)",
            "\u001b[0;32m<ipython-input-5-b3829a331b92>\u001b[0m in \u001b[0;36m<module>\u001b[0;34m()\u001b[0m\n\u001b[1;32m      3\u001b[0m t5 = torch.tensor([[5., 6, 11], \n\u001b[1;32m      4\u001b[0m                    \u001b[0;34m[\u001b[0m\u001b[0;36m7\u001b[0m\u001b[0;34m,\u001b[0m \u001b[0;36m8\u001b[0m\u001b[0;34m]\u001b[0m\u001b[0;34m,\u001b[0m\u001b[0;34m\u001b[0m\u001b[0;34m\u001b[0m\u001b[0m\n\u001b[0;32m----> 5\u001b[0;31m                    [9, 10]])\n\u001b[0m\u001b[1;32m      6\u001b[0m \u001b[0mt5\u001b[0m\u001b[0;34m\u001b[0m\u001b[0;34m\u001b[0m\u001b[0m\n",
            "\u001b[0;31mValueError\u001b[0m: expected sequence of length 3 at dim 1 (got 2)"
          ]
        }
      ]
    },
    {
      "cell_type": "code",
      "source": [
        "#Operations and Gradients\n",
        "\n",
        "# Create tensors.\n",
        "x = torch.tensor(3.)\n",
        "# we can automatically compute the derivative of y w.r.t. the tensors that have requires_grad set to True i.e. w and b. \n",
        "w = torch.tensor(4., requires_grad=True)\n",
        "b = torch.tensor(5., requires_grad=True)\n",
        "print(x,w,b)\n",
        "\n",
        "# Arithmetic operations\n",
        "#3*4+5\n",
        "y = w * x + b\n",
        "print(y)\n",
        "\n",
        "# Compute derivatives on wx+b\n",
        "y.backward()\n",
        "\n",
        "# Display gradients\n",
        "print('dy/dx:', x.grad)#No requires_grad\n",
        "print('dy/dw:', w.grad)#d(3w+5)/dw\n",
        "print('dy/db:', b.grad)#d(3*4+b)/db"
      ],
      "metadata": {
        "colab": {
          "base_uri": "https://localhost:8080/"
        },
        "id": "4okhHnNItkIl",
        "outputId": "289f2023-ed96-4769-a7e5-3216505eee81"
      },
      "execution_count": 13,
      "outputs": [
        {
          "output_type": "stream",
          "name": "stdout",
          "text": [
            "tensor(3.) tensor(4., requires_grad=True) tensor(5., requires_grad=True)\n",
            "tensor(17., grad_fn=<AddBackward0>)\n",
            "dy/dx: None\n",
            "dy/dw: tensor(3.)\n",
            "dy/db: tensor(1.)\n"
          ]
        }
      ]
    },
    {
      "cell_type": "code",
      "source": [
        "#Tesnor functions\n",
        "\n",
        "# Create a tensor with a fixed value for every element\n",
        "t6 = torch.full((3, 2), 42)\n",
        "print(t6)\n",
        "\n",
        "# Concatenate two tensors with compatible shapes\n",
        "t7 = torch.cat((t3, t6))\n",
        "print(t7)\n",
        "\n",
        "# Compute the sin of each element\n",
        "t8 = torch.sin(t7)\n",
        "print(t8)\n",
        "\n",
        "# Change the shape of a tensor\n",
        "t9 = t8.reshape(3, 2, 2)\n",
        "print(t9)"
      ],
      "metadata": {
        "colab": {
          "base_uri": "https://localhost:8080/"
        },
        "id": "3p_pNpA5vckM",
        "outputId": "ed1191db-7cb1-4884-9dde-73c83bae1fd6"
      },
      "execution_count": 12,
      "outputs": [
        {
          "output_type": "stream",
          "name": "stdout",
          "text": [
            "tensor([[42, 42],\n",
            "        [42, 42],\n",
            "        [42, 42]])\n",
            "tensor([[ 5.,  6.],\n",
            "        [ 7.,  8.],\n",
            "        [ 9., 10.],\n",
            "        [42., 42.],\n",
            "        [42., 42.],\n",
            "        [42., 42.]])\n",
            "tensor([[-0.9589, -0.2794],\n",
            "        [ 0.6570,  0.9894],\n",
            "        [ 0.4121, -0.5440],\n",
            "        [-0.9165, -0.9165],\n",
            "        [-0.9165, -0.9165],\n",
            "        [-0.9165, -0.9165]])\n",
            "tensor([[[-0.9589, -0.2794],\n",
            "         [ 0.6570,  0.9894]],\n",
            "\n",
            "        [[ 0.4121, -0.5440],\n",
            "         [-0.9165, -0.9165]],\n",
            "\n",
            "        [[-0.9165, -0.9165],\n",
            "         [-0.9165, -0.9165]]])\n"
          ]
        }
      ]
    },
    {
      "cell_type": "code",
      "source": [
        "#Numpy is a popular open-source library used for mathematical and scientific computing in Python. \n",
        "#It enables efficient operations on large multi-dimensional arrays and has a vast ecosystem of supporting libraries, including:\n",
        "#Pandas for file I/O and data analysis\n",
        "#Matplotlib for plotting and visualization\n",
        "#OpenCV for image and video processing\n",
        "#PyTorch interoperates well with Numpy to leverage its existing ecosystem of tools and libraries."
      ],
      "metadata": {
        "id": "L4r1tEx1wHks"
      },
      "execution_count": null,
      "outputs": []
    },
    {
      "cell_type": "code",
      "source": [
        "#Create Array\n",
        "import numpy as np\n",
        "\n",
        "x = np.array([[1, 2], [3, 4.]])\n",
        "print(x)\n",
        "\n",
        "# Convert the numpy array to a torch tensor.\n",
        "y = torch.from_numpy(x)\n",
        "print(y)\n",
        "\n",
        "#Verify if have similar datatype\n",
        "print(x.dtype, y.dtype)\n",
        "\n",
        "# Convert a torch tensor to a numpy array\n",
        "z = y.numpy()\n",
        "print(z)\n",
        "\n",
        "#Why Pytorch\n",
        "#Autograd: The ability to automatically compute gradients for tensor operations is essential for training deep learning models.\n",
        "#GPU Support"
      ],
      "metadata": {
        "id": "csCxS5ovwVr1"
      },
      "execution_count": null,
      "outputs": []
    }
  ]
}