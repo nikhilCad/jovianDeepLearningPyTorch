{
  "nbformat": 4,
  "nbformat_minor": 0,
  "metadata": {
    "colab": {
      "name": "JovianPyTorch.ipynb",
      "provenance": [],
      "collapsed_sections": []
    },
    "kernelspec": {
      "name": "python3",
      "display_name": "Python 3"
    },
    "language_info": {
      "name": "python"
    },
    "widgets": {
      "application/vnd.jupyter.widget-state+json": {
        "a25b9c5a7f804a80915286c1570b5da6": {
          "model_module": "@jupyter-widgets/controls",
          "model_name": "HBoxModel",
          "model_module_version": "1.5.0",
          "state": {
            "_dom_classes": [],
            "_model_module": "@jupyter-widgets/controls",
            "_model_module_version": "1.5.0",
            "_model_name": "HBoxModel",
            "_view_count": null,
            "_view_module": "@jupyter-widgets/controls",
            "_view_module_version": "1.5.0",
            "_view_name": "HBoxView",
            "box_style": "",
            "children": [
              "IPY_MODEL_b6fb6e47f936416f8ff97d708a62844b",
              "IPY_MODEL_05f5505ae369492f845421368e29fa06",
              "IPY_MODEL_ba4429c681d04c96a0416645c4573f1b"
            ],
            "layout": "IPY_MODEL_7776e987ed4f4d9ba78826d77921be5d"
          }
        },
        "b6fb6e47f936416f8ff97d708a62844b": {
          "model_module": "@jupyter-widgets/controls",
          "model_name": "HTMLModel",
          "model_module_version": "1.5.0",
          "state": {
            "_dom_classes": [],
            "_model_module": "@jupyter-widgets/controls",
            "_model_module_version": "1.5.0",
            "_model_name": "HTMLModel",
            "_view_count": null,
            "_view_module": "@jupyter-widgets/controls",
            "_view_module_version": "1.5.0",
            "_view_name": "HTMLView",
            "description": "",
            "description_tooltip": null,
            "layout": "IPY_MODEL_47bd2e3c4fa54e1fbbfc2491a4abd8fc",
            "placeholder": "​",
            "style": "IPY_MODEL_77dea5e9d7004cc7b12ad68ef3d6fb47",
            "value": ""
          }
        },
        "05f5505ae369492f845421368e29fa06": {
          "model_module": "@jupyter-widgets/controls",
          "model_name": "FloatProgressModel",
          "model_module_version": "1.5.0",
          "state": {
            "_dom_classes": [],
            "_model_module": "@jupyter-widgets/controls",
            "_model_module_version": "1.5.0",
            "_model_name": "FloatProgressModel",
            "_view_count": null,
            "_view_module": "@jupyter-widgets/controls",
            "_view_module_version": "1.5.0",
            "_view_name": "ProgressView",
            "bar_style": "success",
            "description": "",
            "description_tooltip": null,
            "layout": "IPY_MODEL_df3b02c165cb4a73906318b3f40cae94",
            "max": 9912422,
            "min": 0,
            "orientation": "horizontal",
            "style": "IPY_MODEL_98e5388b36b5461eadfbb0ca9573a3ad",
            "value": 9912422
          }
        },
        "ba4429c681d04c96a0416645c4573f1b": {
          "model_module": "@jupyter-widgets/controls",
          "model_name": "HTMLModel",
          "model_module_version": "1.5.0",
          "state": {
            "_dom_classes": [],
            "_model_module": "@jupyter-widgets/controls",
            "_model_module_version": "1.5.0",
            "_model_name": "HTMLModel",
            "_view_count": null,
            "_view_module": "@jupyter-widgets/controls",
            "_view_module_version": "1.5.0",
            "_view_name": "HTMLView",
            "description": "",
            "description_tooltip": null,
            "layout": "IPY_MODEL_264500859acb47dda0c4ff4554b45a34",
            "placeholder": "​",
            "style": "IPY_MODEL_1c1edcd5be814124b32dc8a4d949b66c",
            "value": " 9913344/? [00:00&lt;00:00, 16529095.41it/s]"
          }
        },
        "7776e987ed4f4d9ba78826d77921be5d": {
          "model_module": "@jupyter-widgets/base",
          "model_name": "LayoutModel",
          "model_module_version": "1.2.0",
          "state": {
            "_model_module": "@jupyter-widgets/base",
            "_model_module_version": "1.2.0",
            "_model_name": "LayoutModel",
            "_view_count": null,
            "_view_module": "@jupyter-widgets/base",
            "_view_module_version": "1.2.0",
            "_view_name": "LayoutView",
            "align_content": null,
            "align_items": null,
            "align_self": null,
            "border": null,
            "bottom": null,
            "display": null,
            "flex": null,
            "flex_flow": null,
            "grid_area": null,
            "grid_auto_columns": null,
            "grid_auto_flow": null,
            "grid_auto_rows": null,
            "grid_column": null,
            "grid_gap": null,
            "grid_row": null,
            "grid_template_areas": null,
            "grid_template_columns": null,
            "grid_template_rows": null,
            "height": null,
            "justify_content": null,
            "justify_items": null,
            "left": null,
            "margin": null,
            "max_height": null,
            "max_width": null,
            "min_height": null,
            "min_width": null,
            "object_fit": null,
            "object_position": null,
            "order": null,
            "overflow": null,
            "overflow_x": null,
            "overflow_y": null,
            "padding": null,
            "right": null,
            "top": null,
            "visibility": null,
            "width": null
          }
        },
        "47bd2e3c4fa54e1fbbfc2491a4abd8fc": {
          "model_module": "@jupyter-widgets/base",
          "model_name": "LayoutModel",
          "model_module_version": "1.2.0",
          "state": {
            "_model_module": "@jupyter-widgets/base",
            "_model_module_version": "1.2.0",
            "_model_name": "LayoutModel",
            "_view_count": null,
            "_view_module": "@jupyter-widgets/base",
            "_view_module_version": "1.2.0",
            "_view_name": "LayoutView",
            "align_content": null,
            "align_items": null,
            "align_self": null,
            "border": null,
            "bottom": null,
            "display": null,
            "flex": null,
            "flex_flow": null,
            "grid_area": null,
            "grid_auto_columns": null,
            "grid_auto_flow": null,
            "grid_auto_rows": null,
            "grid_column": null,
            "grid_gap": null,
            "grid_row": null,
            "grid_template_areas": null,
            "grid_template_columns": null,
            "grid_template_rows": null,
            "height": null,
            "justify_content": null,
            "justify_items": null,
            "left": null,
            "margin": null,
            "max_height": null,
            "max_width": null,
            "min_height": null,
            "min_width": null,
            "object_fit": null,
            "object_position": null,
            "order": null,
            "overflow": null,
            "overflow_x": null,
            "overflow_y": null,
            "padding": null,
            "right": null,
            "top": null,
            "visibility": null,
            "width": null
          }
        },
        "77dea5e9d7004cc7b12ad68ef3d6fb47": {
          "model_module": "@jupyter-widgets/controls",
          "model_name": "DescriptionStyleModel",
          "model_module_version": "1.5.0",
          "state": {
            "_model_module": "@jupyter-widgets/controls",
            "_model_module_version": "1.5.0",
            "_model_name": "DescriptionStyleModel",
            "_view_count": null,
            "_view_module": "@jupyter-widgets/base",
            "_view_module_version": "1.2.0",
            "_view_name": "StyleView",
            "description_width": ""
          }
        },
        "df3b02c165cb4a73906318b3f40cae94": {
          "model_module": "@jupyter-widgets/base",
          "model_name": "LayoutModel",
          "model_module_version": "1.2.0",
          "state": {
            "_model_module": "@jupyter-widgets/base",
            "_model_module_version": "1.2.0",
            "_model_name": "LayoutModel",
            "_view_count": null,
            "_view_module": "@jupyter-widgets/base",
            "_view_module_version": "1.2.0",
            "_view_name": "LayoutView",
            "align_content": null,
            "align_items": null,
            "align_self": null,
            "border": null,
            "bottom": null,
            "display": null,
            "flex": null,
            "flex_flow": null,
            "grid_area": null,
            "grid_auto_columns": null,
            "grid_auto_flow": null,
            "grid_auto_rows": null,
            "grid_column": null,
            "grid_gap": null,
            "grid_row": null,
            "grid_template_areas": null,
            "grid_template_columns": null,
            "grid_template_rows": null,
            "height": null,
            "justify_content": null,
            "justify_items": null,
            "left": null,
            "margin": null,
            "max_height": null,
            "max_width": null,
            "min_height": null,
            "min_width": null,
            "object_fit": null,
            "object_position": null,
            "order": null,
            "overflow": null,
            "overflow_x": null,
            "overflow_y": null,
            "padding": null,
            "right": null,
            "top": null,
            "visibility": null,
            "width": null
          }
        },
        "98e5388b36b5461eadfbb0ca9573a3ad": {
          "model_module": "@jupyter-widgets/controls",
          "model_name": "ProgressStyleModel",
          "model_module_version": "1.5.0",
          "state": {
            "_model_module": "@jupyter-widgets/controls",
            "_model_module_version": "1.5.0",
            "_model_name": "ProgressStyleModel",
            "_view_count": null,
            "_view_module": "@jupyter-widgets/base",
            "_view_module_version": "1.2.0",
            "_view_name": "StyleView",
            "bar_color": null,
            "description_width": ""
          }
        },
        "264500859acb47dda0c4ff4554b45a34": {
          "model_module": "@jupyter-widgets/base",
          "model_name": "LayoutModel",
          "model_module_version": "1.2.0",
          "state": {
            "_model_module": "@jupyter-widgets/base",
            "_model_module_version": "1.2.0",
            "_model_name": "LayoutModel",
            "_view_count": null,
            "_view_module": "@jupyter-widgets/base",
            "_view_module_version": "1.2.0",
            "_view_name": "LayoutView",
            "align_content": null,
            "align_items": null,
            "align_self": null,
            "border": null,
            "bottom": null,
            "display": null,
            "flex": null,
            "flex_flow": null,
            "grid_area": null,
            "grid_auto_columns": null,
            "grid_auto_flow": null,
            "grid_auto_rows": null,
            "grid_column": null,
            "grid_gap": null,
            "grid_row": null,
            "grid_template_areas": null,
            "grid_template_columns": null,
            "grid_template_rows": null,
            "height": null,
            "justify_content": null,
            "justify_items": null,
            "left": null,
            "margin": null,
            "max_height": null,
            "max_width": null,
            "min_height": null,
            "min_width": null,
            "object_fit": null,
            "object_position": null,
            "order": null,
            "overflow": null,
            "overflow_x": null,
            "overflow_y": null,
            "padding": null,
            "right": null,
            "top": null,
            "visibility": null,
            "width": null
          }
        },
        "1c1edcd5be814124b32dc8a4d949b66c": {
          "model_module": "@jupyter-widgets/controls",
          "model_name": "DescriptionStyleModel",
          "model_module_version": "1.5.0",
          "state": {
            "_model_module": "@jupyter-widgets/controls",
            "_model_module_version": "1.5.0",
            "_model_name": "DescriptionStyleModel",
            "_view_count": null,
            "_view_module": "@jupyter-widgets/base",
            "_view_module_version": "1.2.0",
            "_view_name": "StyleView",
            "description_width": ""
          }
        },
        "a6d6bcecc0c04955afb6149463d20106": {
          "model_module": "@jupyter-widgets/controls",
          "model_name": "HBoxModel",
          "model_module_version": "1.5.0",
          "state": {
            "_dom_classes": [],
            "_model_module": "@jupyter-widgets/controls",
            "_model_module_version": "1.5.0",
            "_model_name": "HBoxModel",
            "_view_count": null,
            "_view_module": "@jupyter-widgets/controls",
            "_view_module_version": "1.5.0",
            "_view_name": "HBoxView",
            "box_style": "",
            "children": [
              "IPY_MODEL_a3279c7eca67494d91a1abd07c8535bf",
              "IPY_MODEL_541d848973f8486ca35274b17a2e7ef5",
              "IPY_MODEL_3529088edd1b4eb2b08f136a214999eb"
            ],
            "layout": "IPY_MODEL_2cd836622fac4fa095a7702e1f1fb963"
          }
        },
        "a3279c7eca67494d91a1abd07c8535bf": {
          "model_module": "@jupyter-widgets/controls",
          "model_name": "HTMLModel",
          "model_module_version": "1.5.0",
          "state": {
            "_dom_classes": [],
            "_model_module": "@jupyter-widgets/controls",
            "_model_module_version": "1.5.0",
            "_model_name": "HTMLModel",
            "_view_count": null,
            "_view_module": "@jupyter-widgets/controls",
            "_view_module_version": "1.5.0",
            "_view_name": "HTMLView",
            "description": "",
            "description_tooltip": null,
            "layout": "IPY_MODEL_d5a5b2440d434ec3b474b2330c77d287",
            "placeholder": "​",
            "style": "IPY_MODEL_9cb3ebe996e548468d93cd76415febd0",
            "value": ""
          }
        },
        "541d848973f8486ca35274b17a2e7ef5": {
          "model_module": "@jupyter-widgets/controls",
          "model_name": "FloatProgressModel",
          "model_module_version": "1.5.0",
          "state": {
            "_dom_classes": [],
            "_model_module": "@jupyter-widgets/controls",
            "_model_module_version": "1.5.0",
            "_model_name": "FloatProgressModel",
            "_view_count": null,
            "_view_module": "@jupyter-widgets/controls",
            "_view_module_version": "1.5.0",
            "_view_name": "ProgressView",
            "bar_style": "success",
            "description": "",
            "description_tooltip": null,
            "layout": "IPY_MODEL_81bd15287e47469d90cc8565171e7540",
            "max": 28881,
            "min": 0,
            "orientation": "horizontal",
            "style": "IPY_MODEL_40c9e91989df4357a003a31174433370",
            "value": 28881
          }
        },
        "3529088edd1b4eb2b08f136a214999eb": {
          "model_module": "@jupyter-widgets/controls",
          "model_name": "HTMLModel",
          "model_module_version": "1.5.0",
          "state": {
            "_dom_classes": [],
            "_model_module": "@jupyter-widgets/controls",
            "_model_module_version": "1.5.0",
            "_model_name": "HTMLModel",
            "_view_count": null,
            "_view_module": "@jupyter-widgets/controls",
            "_view_module_version": "1.5.0",
            "_view_name": "HTMLView",
            "description": "",
            "description_tooltip": null,
            "layout": "IPY_MODEL_370d8806a9a14e3abc799b0c688984e5",
            "placeholder": "​",
            "style": "IPY_MODEL_1f40939a2f87477ca89e42b99cb41d7c",
            "value": " 29696/? [00:00&lt;00:00, 464604.83it/s]"
          }
        },
        "2cd836622fac4fa095a7702e1f1fb963": {
          "model_module": "@jupyter-widgets/base",
          "model_name": "LayoutModel",
          "model_module_version": "1.2.0",
          "state": {
            "_model_module": "@jupyter-widgets/base",
            "_model_module_version": "1.2.0",
            "_model_name": "LayoutModel",
            "_view_count": null,
            "_view_module": "@jupyter-widgets/base",
            "_view_module_version": "1.2.0",
            "_view_name": "LayoutView",
            "align_content": null,
            "align_items": null,
            "align_self": null,
            "border": null,
            "bottom": null,
            "display": null,
            "flex": null,
            "flex_flow": null,
            "grid_area": null,
            "grid_auto_columns": null,
            "grid_auto_flow": null,
            "grid_auto_rows": null,
            "grid_column": null,
            "grid_gap": null,
            "grid_row": null,
            "grid_template_areas": null,
            "grid_template_columns": null,
            "grid_template_rows": null,
            "height": null,
            "justify_content": null,
            "justify_items": null,
            "left": null,
            "margin": null,
            "max_height": null,
            "max_width": null,
            "min_height": null,
            "min_width": null,
            "object_fit": null,
            "object_position": null,
            "order": null,
            "overflow": null,
            "overflow_x": null,
            "overflow_y": null,
            "padding": null,
            "right": null,
            "top": null,
            "visibility": null,
            "width": null
          }
        },
        "d5a5b2440d434ec3b474b2330c77d287": {
          "model_module": "@jupyter-widgets/base",
          "model_name": "LayoutModel",
          "model_module_version": "1.2.0",
          "state": {
            "_model_module": "@jupyter-widgets/base",
            "_model_module_version": "1.2.0",
            "_model_name": "LayoutModel",
            "_view_count": null,
            "_view_module": "@jupyter-widgets/base",
            "_view_module_version": "1.2.0",
            "_view_name": "LayoutView",
            "align_content": null,
            "align_items": null,
            "align_self": null,
            "border": null,
            "bottom": null,
            "display": null,
            "flex": null,
            "flex_flow": null,
            "grid_area": null,
            "grid_auto_columns": null,
            "grid_auto_flow": null,
            "grid_auto_rows": null,
            "grid_column": null,
            "grid_gap": null,
            "grid_row": null,
            "grid_template_areas": null,
            "grid_template_columns": null,
            "grid_template_rows": null,
            "height": null,
            "justify_content": null,
            "justify_items": null,
            "left": null,
            "margin": null,
            "max_height": null,
            "max_width": null,
            "min_height": null,
            "min_width": null,
            "object_fit": null,
            "object_position": null,
            "order": null,
            "overflow": null,
            "overflow_x": null,
            "overflow_y": null,
            "padding": null,
            "right": null,
            "top": null,
            "visibility": null,
            "width": null
          }
        },
        "9cb3ebe996e548468d93cd76415febd0": {
          "model_module": "@jupyter-widgets/controls",
          "model_name": "DescriptionStyleModel",
          "model_module_version": "1.5.0",
          "state": {
            "_model_module": "@jupyter-widgets/controls",
            "_model_module_version": "1.5.0",
            "_model_name": "DescriptionStyleModel",
            "_view_count": null,
            "_view_module": "@jupyter-widgets/base",
            "_view_module_version": "1.2.0",
            "_view_name": "StyleView",
            "description_width": ""
          }
        },
        "81bd15287e47469d90cc8565171e7540": {
          "model_module": "@jupyter-widgets/base",
          "model_name": "LayoutModel",
          "model_module_version": "1.2.0",
          "state": {
            "_model_module": "@jupyter-widgets/base",
            "_model_module_version": "1.2.0",
            "_model_name": "LayoutModel",
            "_view_count": null,
            "_view_module": "@jupyter-widgets/base",
            "_view_module_version": "1.2.0",
            "_view_name": "LayoutView",
            "align_content": null,
            "align_items": null,
            "align_self": null,
            "border": null,
            "bottom": null,
            "display": null,
            "flex": null,
            "flex_flow": null,
            "grid_area": null,
            "grid_auto_columns": null,
            "grid_auto_flow": null,
            "grid_auto_rows": null,
            "grid_column": null,
            "grid_gap": null,
            "grid_row": null,
            "grid_template_areas": null,
            "grid_template_columns": null,
            "grid_template_rows": null,
            "height": null,
            "justify_content": null,
            "justify_items": null,
            "left": null,
            "margin": null,
            "max_height": null,
            "max_width": null,
            "min_height": null,
            "min_width": null,
            "object_fit": null,
            "object_position": null,
            "order": null,
            "overflow": null,
            "overflow_x": null,
            "overflow_y": null,
            "padding": null,
            "right": null,
            "top": null,
            "visibility": null,
            "width": null
          }
        },
        "40c9e91989df4357a003a31174433370": {
          "model_module": "@jupyter-widgets/controls",
          "model_name": "ProgressStyleModel",
          "model_module_version": "1.5.0",
          "state": {
            "_model_module": "@jupyter-widgets/controls",
            "_model_module_version": "1.5.0",
            "_model_name": "ProgressStyleModel",
            "_view_count": null,
            "_view_module": "@jupyter-widgets/base",
            "_view_module_version": "1.2.0",
            "_view_name": "StyleView",
            "bar_color": null,
            "description_width": ""
          }
        },
        "370d8806a9a14e3abc799b0c688984e5": {
          "model_module": "@jupyter-widgets/base",
          "model_name": "LayoutModel",
          "model_module_version": "1.2.0",
          "state": {
            "_model_module": "@jupyter-widgets/base",
            "_model_module_version": "1.2.0",
            "_model_name": "LayoutModel",
            "_view_count": null,
            "_view_module": "@jupyter-widgets/base",
            "_view_module_version": "1.2.0",
            "_view_name": "LayoutView",
            "align_content": null,
            "align_items": null,
            "align_self": null,
            "border": null,
            "bottom": null,
            "display": null,
            "flex": null,
            "flex_flow": null,
            "grid_area": null,
            "grid_auto_columns": null,
            "grid_auto_flow": null,
            "grid_auto_rows": null,
            "grid_column": null,
            "grid_gap": null,
            "grid_row": null,
            "grid_template_areas": null,
            "grid_template_columns": null,
            "grid_template_rows": null,
            "height": null,
            "justify_content": null,
            "justify_items": null,
            "left": null,
            "margin": null,
            "max_height": null,
            "max_width": null,
            "min_height": null,
            "min_width": null,
            "object_fit": null,
            "object_position": null,
            "order": null,
            "overflow": null,
            "overflow_x": null,
            "overflow_y": null,
            "padding": null,
            "right": null,
            "top": null,
            "visibility": null,
            "width": null
          }
        },
        "1f40939a2f87477ca89e42b99cb41d7c": {
          "model_module": "@jupyter-widgets/controls",
          "model_name": "DescriptionStyleModel",
          "model_module_version": "1.5.0",
          "state": {
            "_model_module": "@jupyter-widgets/controls",
            "_model_module_version": "1.5.0",
            "_model_name": "DescriptionStyleModel",
            "_view_count": null,
            "_view_module": "@jupyter-widgets/base",
            "_view_module_version": "1.2.0",
            "_view_name": "StyleView",
            "description_width": ""
          }
        },
        "35f558b60e174f93b2cd4bdb0ee2e98d": {
          "model_module": "@jupyter-widgets/controls",
          "model_name": "HBoxModel",
          "model_module_version": "1.5.0",
          "state": {
            "_dom_classes": [],
            "_model_module": "@jupyter-widgets/controls",
            "_model_module_version": "1.5.0",
            "_model_name": "HBoxModel",
            "_view_count": null,
            "_view_module": "@jupyter-widgets/controls",
            "_view_module_version": "1.5.0",
            "_view_name": "HBoxView",
            "box_style": "",
            "children": [
              "IPY_MODEL_d750959207b34ea5a8c7e11abab9c4cb",
              "IPY_MODEL_f0f2dde882c1449797ae6f1530364c0a",
              "IPY_MODEL_f136a292933246839794a6230b74347a"
            ],
            "layout": "IPY_MODEL_631cbfc4565245fdaf79d40f865ef51a"
          }
        },
        "d750959207b34ea5a8c7e11abab9c4cb": {
          "model_module": "@jupyter-widgets/controls",
          "model_name": "HTMLModel",
          "model_module_version": "1.5.0",
          "state": {
            "_dom_classes": [],
            "_model_module": "@jupyter-widgets/controls",
            "_model_module_version": "1.5.0",
            "_model_name": "HTMLModel",
            "_view_count": null,
            "_view_module": "@jupyter-widgets/controls",
            "_view_module_version": "1.5.0",
            "_view_name": "HTMLView",
            "description": "",
            "description_tooltip": null,
            "layout": "IPY_MODEL_0745d404be4840d79d7545d7a8649f4d",
            "placeholder": "​",
            "style": "IPY_MODEL_213cf8f667164d22b493bd59e5e6202e",
            "value": ""
          }
        },
        "f0f2dde882c1449797ae6f1530364c0a": {
          "model_module": "@jupyter-widgets/controls",
          "model_name": "FloatProgressModel",
          "model_module_version": "1.5.0",
          "state": {
            "_dom_classes": [],
            "_model_module": "@jupyter-widgets/controls",
            "_model_module_version": "1.5.0",
            "_model_name": "FloatProgressModel",
            "_view_count": null,
            "_view_module": "@jupyter-widgets/controls",
            "_view_module_version": "1.5.0",
            "_view_name": "ProgressView",
            "bar_style": "success",
            "description": "",
            "description_tooltip": null,
            "layout": "IPY_MODEL_ff817972edd44ad5a8a86a9ad9045813",
            "max": 1648877,
            "min": 0,
            "orientation": "horizontal",
            "style": "IPY_MODEL_c12f3a0761b348529afc91be4869fed5",
            "value": 1648877
          }
        },
        "f136a292933246839794a6230b74347a": {
          "model_module": "@jupyter-widgets/controls",
          "model_name": "HTMLModel",
          "model_module_version": "1.5.0",
          "state": {
            "_dom_classes": [],
            "_model_module": "@jupyter-widgets/controls",
            "_model_module_version": "1.5.0",
            "_model_name": "HTMLModel",
            "_view_count": null,
            "_view_module": "@jupyter-widgets/controls",
            "_view_module_version": "1.5.0",
            "_view_name": "HTMLView",
            "description": "",
            "description_tooltip": null,
            "layout": "IPY_MODEL_1aff7cb1c6ba4cdd8fd6d25c01ac703b",
            "placeholder": "​",
            "style": "IPY_MODEL_579200f80ec643bb8f0d27128adbc6ef",
            "value": " 1649664/? [00:00&lt;00:00, 11611562.02it/s]"
          }
        },
        "631cbfc4565245fdaf79d40f865ef51a": {
          "model_module": "@jupyter-widgets/base",
          "model_name": "LayoutModel",
          "model_module_version": "1.2.0",
          "state": {
            "_model_module": "@jupyter-widgets/base",
            "_model_module_version": "1.2.0",
            "_model_name": "LayoutModel",
            "_view_count": null,
            "_view_module": "@jupyter-widgets/base",
            "_view_module_version": "1.2.0",
            "_view_name": "LayoutView",
            "align_content": null,
            "align_items": null,
            "align_self": null,
            "border": null,
            "bottom": null,
            "display": null,
            "flex": null,
            "flex_flow": null,
            "grid_area": null,
            "grid_auto_columns": null,
            "grid_auto_flow": null,
            "grid_auto_rows": null,
            "grid_column": null,
            "grid_gap": null,
            "grid_row": null,
            "grid_template_areas": null,
            "grid_template_columns": null,
            "grid_template_rows": null,
            "height": null,
            "justify_content": null,
            "justify_items": null,
            "left": null,
            "margin": null,
            "max_height": null,
            "max_width": null,
            "min_height": null,
            "min_width": null,
            "object_fit": null,
            "object_position": null,
            "order": null,
            "overflow": null,
            "overflow_x": null,
            "overflow_y": null,
            "padding": null,
            "right": null,
            "top": null,
            "visibility": null,
            "width": null
          }
        },
        "0745d404be4840d79d7545d7a8649f4d": {
          "model_module": "@jupyter-widgets/base",
          "model_name": "LayoutModel",
          "model_module_version": "1.2.0",
          "state": {
            "_model_module": "@jupyter-widgets/base",
            "_model_module_version": "1.2.0",
            "_model_name": "LayoutModel",
            "_view_count": null,
            "_view_module": "@jupyter-widgets/base",
            "_view_module_version": "1.2.0",
            "_view_name": "LayoutView",
            "align_content": null,
            "align_items": null,
            "align_self": null,
            "border": null,
            "bottom": null,
            "display": null,
            "flex": null,
            "flex_flow": null,
            "grid_area": null,
            "grid_auto_columns": null,
            "grid_auto_flow": null,
            "grid_auto_rows": null,
            "grid_column": null,
            "grid_gap": null,
            "grid_row": null,
            "grid_template_areas": null,
            "grid_template_columns": null,
            "grid_template_rows": null,
            "height": null,
            "justify_content": null,
            "justify_items": null,
            "left": null,
            "margin": null,
            "max_height": null,
            "max_width": null,
            "min_height": null,
            "min_width": null,
            "object_fit": null,
            "object_position": null,
            "order": null,
            "overflow": null,
            "overflow_x": null,
            "overflow_y": null,
            "padding": null,
            "right": null,
            "top": null,
            "visibility": null,
            "width": null
          }
        },
        "213cf8f667164d22b493bd59e5e6202e": {
          "model_module": "@jupyter-widgets/controls",
          "model_name": "DescriptionStyleModel",
          "model_module_version": "1.5.0",
          "state": {
            "_model_module": "@jupyter-widgets/controls",
            "_model_module_version": "1.5.0",
            "_model_name": "DescriptionStyleModel",
            "_view_count": null,
            "_view_module": "@jupyter-widgets/base",
            "_view_module_version": "1.2.0",
            "_view_name": "StyleView",
            "description_width": ""
          }
        },
        "ff817972edd44ad5a8a86a9ad9045813": {
          "model_module": "@jupyter-widgets/base",
          "model_name": "LayoutModel",
          "model_module_version": "1.2.0",
          "state": {
            "_model_module": "@jupyter-widgets/base",
            "_model_module_version": "1.2.0",
            "_model_name": "LayoutModel",
            "_view_count": null,
            "_view_module": "@jupyter-widgets/base",
            "_view_module_version": "1.2.0",
            "_view_name": "LayoutView",
            "align_content": null,
            "align_items": null,
            "align_self": null,
            "border": null,
            "bottom": null,
            "display": null,
            "flex": null,
            "flex_flow": null,
            "grid_area": null,
            "grid_auto_columns": null,
            "grid_auto_flow": null,
            "grid_auto_rows": null,
            "grid_column": null,
            "grid_gap": null,
            "grid_row": null,
            "grid_template_areas": null,
            "grid_template_columns": null,
            "grid_template_rows": null,
            "height": null,
            "justify_content": null,
            "justify_items": null,
            "left": null,
            "margin": null,
            "max_height": null,
            "max_width": null,
            "min_height": null,
            "min_width": null,
            "object_fit": null,
            "object_position": null,
            "order": null,
            "overflow": null,
            "overflow_x": null,
            "overflow_y": null,
            "padding": null,
            "right": null,
            "top": null,
            "visibility": null,
            "width": null
          }
        },
        "c12f3a0761b348529afc91be4869fed5": {
          "model_module": "@jupyter-widgets/controls",
          "model_name": "ProgressStyleModel",
          "model_module_version": "1.5.0",
          "state": {
            "_model_module": "@jupyter-widgets/controls",
            "_model_module_version": "1.5.0",
            "_model_name": "ProgressStyleModel",
            "_view_count": null,
            "_view_module": "@jupyter-widgets/base",
            "_view_module_version": "1.2.0",
            "_view_name": "StyleView",
            "bar_color": null,
            "description_width": ""
          }
        },
        "1aff7cb1c6ba4cdd8fd6d25c01ac703b": {
          "model_module": "@jupyter-widgets/base",
          "model_name": "LayoutModel",
          "model_module_version": "1.2.0",
          "state": {
            "_model_module": "@jupyter-widgets/base",
            "_model_module_version": "1.2.0",
            "_model_name": "LayoutModel",
            "_view_count": null,
            "_view_module": "@jupyter-widgets/base",
            "_view_module_version": "1.2.0",
            "_view_name": "LayoutView",
            "align_content": null,
            "align_items": null,
            "align_self": null,
            "border": null,
            "bottom": null,
            "display": null,
            "flex": null,
            "flex_flow": null,
            "grid_area": null,
            "grid_auto_columns": null,
            "grid_auto_flow": null,
            "grid_auto_rows": null,
            "grid_column": null,
            "grid_gap": null,
            "grid_row": null,
            "grid_template_areas": null,
            "grid_template_columns": null,
            "grid_template_rows": null,
            "height": null,
            "justify_content": null,
            "justify_items": null,
            "left": null,
            "margin": null,
            "max_height": null,
            "max_width": null,
            "min_height": null,
            "min_width": null,
            "object_fit": null,
            "object_position": null,
            "order": null,
            "overflow": null,
            "overflow_x": null,
            "overflow_y": null,
            "padding": null,
            "right": null,
            "top": null,
            "visibility": null,
            "width": null
          }
        },
        "579200f80ec643bb8f0d27128adbc6ef": {
          "model_module": "@jupyter-widgets/controls",
          "model_name": "DescriptionStyleModel",
          "model_module_version": "1.5.0",
          "state": {
            "_model_module": "@jupyter-widgets/controls",
            "_model_module_version": "1.5.0",
            "_model_name": "DescriptionStyleModel",
            "_view_count": null,
            "_view_module": "@jupyter-widgets/base",
            "_view_module_version": "1.2.0",
            "_view_name": "StyleView",
            "description_width": ""
          }
        },
        "194a78c2aeaa4d10b9a8eac680afab87": {
          "model_module": "@jupyter-widgets/controls",
          "model_name": "HBoxModel",
          "model_module_version": "1.5.0",
          "state": {
            "_dom_classes": [],
            "_model_module": "@jupyter-widgets/controls",
            "_model_module_version": "1.5.0",
            "_model_name": "HBoxModel",
            "_view_count": null,
            "_view_module": "@jupyter-widgets/controls",
            "_view_module_version": "1.5.0",
            "_view_name": "HBoxView",
            "box_style": "",
            "children": [
              "IPY_MODEL_b8f0516498c4406e8878ec573f029092",
              "IPY_MODEL_084d1e936a0748caba763c845fc6f5f3",
              "IPY_MODEL_7fc0c02649f44859b0b2855be9483199"
            ],
            "layout": "IPY_MODEL_5e5bc63c240b4be09e2db3680702ccce"
          }
        },
        "b8f0516498c4406e8878ec573f029092": {
          "model_module": "@jupyter-widgets/controls",
          "model_name": "HTMLModel",
          "model_module_version": "1.5.0",
          "state": {
            "_dom_classes": [],
            "_model_module": "@jupyter-widgets/controls",
            "_model_module_version": "1.5.0",
            "_model_name": "HTMLModel",
            "_view_count": null,
            "_view_module": "@jupyter-widgets/controls",
            "_view_module_version": "1.5.0",
            "_view_name": "HTMLView",
            "description": "",
            "description_tooltip": null,
            "layout": "IPY_MODEL_10b576ae317b4bb2877c04db1610ed64",
            "placeholder": "​",
            "style": "IPY_MODEL_868bea0c651244b5948e8e7c2c0bab1d",
            "value": ""
          }
        },
        "084d1e936a0748caba763c845fc6f5f3": {
          "model_module": "@jupyter-widgets/controls",
          "model_name": "FloatProgressModel",
          "model_module_version": "1.5.0",
          "state": {
            "_dom_classes": [],
            "_model_module": "@jupyter-widgets/controls",
            "_model_module_version": "1.5.0",
            "_model_name": "FloatProgressModel",
            "_view_count": null,
            "_view_module": "@jupyter-widgets/controls",
            "_view_module_version": "1.5.0",
            "_view_name": "ProgressView",
            "bar_style": "success",
            "description": "",
            "description_tooltip": null,
            "layout": "IPY_MODEL_2edbf293cef645459fbd039387d817e4",
            "max": 4542,
            "min": 0,
            "orientation": "horizontal",
            "style": "IPY_MODEL_49cc494f4d58454098d3aa652f12c5c1",
            "value": 4542
          }
        },
        "7fc0c02649f44859b0b2855be9483199": {
          "model_module": "@jupyter-widgets/controls",
          "model_name": "HTMLModel",
          "model_module_version": "1.5.0",
          "state": {
            "_dom_classes": [],
            "_model_module": "@jupyter-widgets/controls",
            "_model_module_version": "1.5.0",
            "_model_name": "HTMLModel",
            "_view_count": null,
            "_view_module": "@jupyter-widgets/controls",
            "_view_module_version": "1.5.0",
            "_view_name": "HTMLView",
            "description": "",
            "description_tooltip": null,
            "layout": "IPY_MODEL_b41fd8749dab4a6d8f25d6ddb326ed9b",
            "placeholder": "​",
            "style": "IPY_MODEL_e55f9b7508e6411f863df49fdd9a6188",
            "value": " 5120/? [00:00&lt;00:00, 95928.05it/s]"
          }
        },
        "5e5bc63c240b4be09e2db3680702ccce": {
          "model_module": "@jupyter-widgets/base",
          "model_name": "LayoutModel",
          "model_module_version": "1.2.0",
          "state": {
            "_model_module": "@jupyter-widgets/base",
            "_model_module_version": "1.2.0",
            "_model_name": "LayoutModel",
            "_view_count": null,
            "_view_module": "@jupyter-widgets/base",
            "_view_module_version": "1.2.0",
            "_view_name": "LayoutView",
            "align_content": null,
            "align_items": null,
            "align_self": null,
            "border": null,
            "bottom": null,
            "display": null,
            "flex": null,
            "flex_flow": null,
            "grid_area": null,
            "grid_auto_columns": null,
            "grid_auto_flow": null,
            "grid_auto_rows": null,
            "grid_column": null,
            "grid_gap": null,
            "grid_row": null,
            "grid_template_areas": null,
            "grid_template_columns": null,
            "grid_template_rows": null,
            "height": null,
            "justify_content": null,
            "justify_items": null,
            "left": null,
            "margin": null,
            "max_height": null,
            "max_width": null,
            "min_height": null,
            "min_width": null,
            "object_fit": null,
            "object_position": null,
            "order": null,
            "overflow": null,
            "overflow_x": null,
            "overflow_y": null,
            "padding": null,
            "right": null,
            "top": null,
            "visibility": null,
            "width": null
          }
        },
        "10b576ae317b4bb2877c04db1610ed64": {
          "model_module": "@jupyter-widgets/base",
          "model_name": "LayoutModel",
          "model_module_version": "1.2.0",
          "state": {
            "_model_module": "@jupyter-widgets/base",
            "_model_module_version": "1.2.0",
            "_model_name": "LayoutModel",
            "_view_count": null,
            "_view_module": "@jupyter-widgets/base",
            "_view_module_version": "1.2.0",
            "_view_name": "LayoutView",
            "align_content": null,
            "align_items": null,
            "align_self": null,
            "border": null,
            "bottom": null,
            "display": null,
            "flex": null,
            "flex_flow": null,
            "grid_area": null,
            "grid_auto_columns": null,
            "grid_auto_flow": null,
            "grid_auto_rows": null,
            "grid_column": null,
            "grid_gap": null,
            "grid_row": null,
            "grid_template_areas": null,
            "grid_template_columns": null,
            "grid_template_rows": null,
            "height": null,
            "justify_content": null,
            "justify_items": null,
            "left": null,
            "margin": null,
            "max_height": null,
            "max_width": null,
            "min_height": null,
            "min_width": null,
            "object_fit": null,
            "object_position": null,
            "order": null,
            "overflow": null,
            "overflow_x": null,
            "overflow_y": null,
            "padding": null,
            "right": null,
            "top": null,
            "visibility": null,
            "width": null
          }
        },
        "868bea0c651244b5948e8e7c2c0bab1d": {
          "model_module": "@jupyter-widgets/controls",
          "model_name": "DescriptionStyleModel",
          "model_module_version": "1.5.0",
          "state": {
            "_model_module": "@jupyter-widgets/controls",
            "_model_module_version": "1.5.0",
            "_model_name": "DescriptionStyleModel",
            "_view_count": null,
            "_view_module": "@jupyter-widgets/base",
            "_view_module_version": "1.2.0",
            "_view_name": "StyleView",
            "description_width": ""
          }
        },
        "2edbf293cef645459fbd039387d817e4": {
          "model_module": "@jupyter-widgets/base",
          "model_name": "LayoutModel",
          "model_module_version": "1.2.0",
          "state": {
            "_model_module": "@jupyter-widgets/base",
            "_model_module_version": "1.2.0",
            "_model_name": "LayoutModel",
            "_view_count": null,
            "_view_module": "@jupyter-widgets/base",
            "_view_module_version": "1.2.0",
            "_view_name": "LayoutView",
            "align_content": null,
            "align_items": null,
            "align_self": null,
            "border": null,
            "bottom": null,
            "display": null,
            "flex": null,
            "flex_flow": null,
            "grid_area": null,
            "grid_auto_columns": null,
            "grid_auto_flow": null,
            "grid_auto_rows": null,
            "grid_column": null,
            "grid_gap": null,
            "grid_row": null,
            "grid_template_areas": null,
            "grid_template_columns": null,
            "grid_template_rows": null,
            "height": null,
            "justify_content": null,
            "justify_items": null,
            "left": null,
            "margin": null,
            "max_height": null,
            "max_width": null,
            "min_height": null,
            "min_width": null,
            "object_fit": null,
            "object_position": null,
            "order": null,
            "overflow": null,
            "overflow_x": null,
            "overflow_y": null,
            "padding": null,
            "right": null,
            "top": null,
            "visibility": null,
            "width": null
          }
        },
        "49cc494f4d58454098d3aa652f12c5c1": {
          "model_module": "@jupyter-widgets/controls",
          "model_name": "ProgressStyleModel",
          "model_module_version": "1.5.0",
          "state": {
            "_model_module": "@jupyter-widgets/controls",
            "_model_module_version": "1.5.0",
            "_model_name": "ProgressStyleModel",
            "_view_count": null,
            "_view_module": "@jupyter-widgets/base",
            "_view_module_version": "1.2.0",
            "_view_name": "StyleView",
            "bar_color": null,
            "description_width": ""
          }
        },
        "b41fd8749dab4a6d8f25d6ddb326ed9b": {
          "model_module": "@jupyter-widgets/base",
          "model_name": "LayoutModel",
          "model_module_version": "1.2.0",
          "state": {
            "_model_module": "@jupyter-widgets/base",
            "_model_module_version": "1.2.0",
            "_model_name": "LayoutModel",
            "_view_count": null,
            "_view_module": "@jupyter-widgets/base",
            "_view_module_version": "1.2.0",
            "_view_name": "LayoutView",
            "align_content": null,
            "align_items": null,
            "align_self": null,
            "border": null,
            "bottom": null,
            "display": null,
            "flex": null,
            "flex_flow": null,
            "grid_area": null,
            "grid_auto_columns": null,
            "grid_auto_flow": null,
            "grid_auto_rows": null,
            "grid_column": null,
            "grid_gap": null,
            "grid_row": null,
            "grid_template_areas": null,
            "grid_template_columns": null,
            "grid_template_rows": null,
            "height": null,
            "justify_content": null,
            "justify_items": null,
            "left": null,
            "margin": null,
            "max_height": null,
            "max_width": null,
            "min_height": null,
            "min_width": null,
            "object_fit": null,
            "object_position": null,
            "order": null,
            "overflow": null,
            "overflow_x": null,
            "overflow_y": null,
            "padding": null,
            "right": null,
            "top": null,
            "visibility": null,
            "width": null
          }
        },
        "e55f9b7508e6411f863df49fdd9a6188": {
          "model_module": "@jupyter-widgets/controls",
          "model_name": "DescriptionStyleModel",
          "model_module_version": "1.5.0",
          "state": {
            "_model_module": "@jupyter-widgets/controls",
            "_model_module_version": "1.5.0",
            "_model_name": "DescriptionStyleModel",
            "_view_count": null,
            "_view_module": "@jupyter-widgets/base",
            "_view_module_version": "1.2.0",
            "_view_name": "StyleView",
            "description_width": ""
          }
        }
      }
    }
  },
  "cells": [
    {
      "cell_type": "code",
      "source": [
        "#LECTURE 2"
      ],
      "metadata": {
        "id": "6errX3NAX1SM"
      },
      "execution_count": null,
      "outputs": []
    },
    {
      "cell_type": "code",
      "source": [
        "#We'll use the famous MNIST Handwritten Digits Database as our training dataset. It consists of 28px by 28px grayscale images of \n",
        "#handwritten digits (0 to 9) and labels for each image indicating which digit it represents.\n",
        "#https://jovian.ai/outlink?url=http%3A%2F%2Fyann.lecun.com%2Fexdb%2Fmnist%2F"
      ],
      "metadata": {
        "id": "Q9qUwLfQYm7U"
      },
      "execution_count": null,
      "outputs": []
    },
    {
      "cell_type": "code",
      "source": [
        "import torch\n",
        "import torchvision\n",
        "from torchvision.datasets import MNIST #dataset"
      ],
      "metadata": {
        "id": "Nooe7oJZYuxY"
      },
      "execution_count": 1,
      "outputs": []
    },
    {
      "cell_type": "code",
      "source": [
        "# Download training dataset\n",
        "dataset = MNIST(root='data/', download=True)"
      ],
      "metadata": {
        "colab": {
          "base_uri": "https://localhost:8080/",
          "height": 423,
          "referenced_widgets": [
            "a25b9c5a7f804a80915286c1570b5da6",
            "b6fb6e47f936416f8ff97d708a62844b",
            "05f5505ae369492f845421368e29fa06",
            "ba4429c681d04c96a0416645c4573f1b",
            "7776e987ed4f4d9ba78826d77921be5d",
            "47bd2e3c4fa54e1fbbfc2491a4abd8fc",
            "77dea5e9d7004cc7b12ad68ef3d6fb47",
            "df3b02c165cb4a73906318b3f40cae94",
            "98e5388b36b5461eadfbb0ca9573a3ad",
            "264500859acb47dda0c4ff4554b45a34",
            "1c1edcd5be814124b32dc8a4d949b66c",
            "a6d6bcecc0c04955afb6149463d20106",
            "a3279c7eca67494d91a1abd07c8535bf",
            "541d848973f8486ca35274b17a2e7ef5",
            "3529088edd1b4eb2b08f136a214999eb",
            "2cd836622fac4fa095a7702e1f1fb963",
            "d5a5b2440d434ec3b474b2330c77d287",
            "9cb3ebe996e548468d93cd76415febd0",
            "81bd15287e47469d90cc8565171e7540",
            "40c9e91989df4357a003a31174433370",
            "370d8806a9a14e3abc799b0c688984e5",
            "1f40939a2f87477ca89e42b99cb41d7c",
            "35f558b60e174f93b2cd4bdb0ee2e98d",
            "d750959207b34ea5a8c7e11abab9c4cb",
            "f0f2dde882c1449797ae6f1530364c0a",
            "f136a292933246839794a6230b74347a",
            "631cbfc4565245fdaf79d40f865ef51a",
            "0745d404be4840d79d7545d7a8649f4d",
            "213cf8f667164d22b493bd59e5e6202e",
            "ff817972edd44ad5a8a86a9ad9045813",
            "c12f3a0761b348529afc91be4869fed5",
            "1aff7cb1c6ba4cdd8fd6d25c01ac703b",
            "579200f80ec643bb8f0d27128adbc6ef",
            "194a78c2aeaa4d10b9a8eac680afab87",
            "b8f0516498c4406e8878ec573f029092",
            "084d1e936a0748caba763c845fc6f5f3",
            "7fc0c02649f44859b0b2855be9483199",
            "5e5bc63c240b4be09e2db3680702ccce",
            "10b576ae317b4bb2877c04db1610ed64",
            "868bea0c651244b5948e8e7c2c0bab1d",
            "2edbf293cef645459fbd039387d817e4",
            "49cc494f4d58454098d3aa652f12c5c1",
            "b41fd8749dab4a6d8f25d6ddb326ed9b",
            "e55f9b7508e6411f863df49fdd9a6188"
          ]
        },
        "id": "mumMqGjSYyS-",
        "outputId": "eb31c3e2-3adf-4ffc-d9eb-1229331d1f9c"
      },
      "execution_count": 2,
      "outputs": [
        {
          "output_type": "stream",
          "name": "stdout",
          "text": [
            "Downloading http://yann.lecun.com/exdb/mnist/train-images-idx3-ubyte.gz\n",
            "Downloading http://yann.lecun.com/exdb/mnist/train-images-idx3-ubyte.gz to data/MNIST/raw/train-images-idx3-ubyte.gz\n"
          ]
        },
        {
          "output_type": "display_data",
          "data": {
            "text/plain": [
              "  0%|          | 0/9912422 [00:00<?, ?it/s]"
            ],
            "application/vnd.jupyter.widget-view+json": {
              "version_major": 2,
              "version_minor": 0,
              "model_id": "a25b9c5a7f804a80915286c1570b5da6"
            }
          },
          "metadata": {}
        },
        {
          "output_type": "stream",
          "name": "stdout",
          "text": [
            "Extracting data/MNIST/raw/train-images-idx3-ubyte.gz to data/MNIST/raw\n",
            "\n",
            "Downloading http://yann.lecun.com/exdb/mnist/train-labels-idx1-ubyte.gz\n",
            "Downloading http://yann.lecun.com/exdb/mnist/train-labels-idx1-ubyte.gz to data/MNIST/raw/train-labels-idx1-ubyte.gz\n"
          ]
        },
        {
          "output_type": "display_data",
          "data": {
            "text/plain": [
              "  0%|          | 0/28881 [00:00<?, ?it/s]"
            ],
            "application/vnd.jupyter.widget-view+json": {
              "version_major": 2,
              "version_minor": 0,
              "model_id": "a6d6bcecc0c04955afb6149463d20106"
            }
          },
          "metadata": {}
        },
        {
          "output_type": "stream",
          "name": "stdout",
          "text": [
            "Extracting data/MNIST/raw/train-labels-idx1-ubyte.gz to data/MNIST/raw\n",
            "\n",
            "Downloading http://yann.lecun.com/exdb/mnist/t10k-images-idx3-ubyte.gz\n",
            "Downloading http://yann.lecun.com/exdb/mnist/t10k-images-idx3-ubyte.gz to data/MNIST/raw/t10k-images-idx3-ubyte.gz\n"
          ]
        },
        {
          "output_type": "display_data",
          "data": {
            "text/plain": [
              "  0%|          | 0/1648877 [00:00<?, ?it/s]"
            ],
            "application/vnd.jupyter.widget-view+json": {
              "version_major": 2,
              "version_minor": 0,
              "model_id": "35f558b60e174f93b2cd4bdb0ee2e98d"
            }
          },
          "metadata": {}
        },
        {
          "output_type": "stream",
          "name": "stdout",
          "text": [
            "Extracting data/MNIST/raw/t10k-images-idx3-ubyte.gz to data/MNIST/raw\n",
            "\n",
            "Downloading http://yann.lecun.com/exdb/mnist/t10k-labels-idx1-ubyte.gz\n",
            "Downloading http://yann.lecun.com/exdb/mnist/t10k-labels-idx1-ubyte.gz to data/MNIST/raw/t10k-labels-idx1-ubyte.gz\n"
          ]
        },
        {
          "output_type": "display_data",
          "data": {
            "text/plain": [
              "  0%|          | 0/4542 [00:00<?, ?it/s]"
            ],
            "application/vnd.jupyter.widget-view+json": {
              "version_major": 2,
              "version_minor": 0,
              "model_id": "194a78c2aeaa4d10b9a8eac680afab87"
            }
          },
          "metadata": {}
        },
        {
          "output_type": "stream",
          "name": "stdout",
          "text": [
            "Extracting data/MNIST/raw/t10k-labels-idx1-ubyte.gz to data/MNIST/raw\n",
            "\n"
          ]
        }
      ]
    },
    {
      "cell_type": "code",
      "source": [
        "len(dataset)"
      ],
      "metadata": {
        "colab": {
          "base_uri": "https://localhost:8080/"
        },
        "id": "OEzbzJwfY2CH",
        "outputId": "636dfc2a-cf06-484a-e0dd-17b3a8bdd545"
      },
      "execution_count": 3,
      "outputs": [
        {
          "output_type": "execute_result",
          "data": {
            "text/plain": [
              "60000"
            ]
          },
          "metadata": {},
          "execution_count": 3
        }
      ]
    },
    {
      "cell_type": "code",
      "source": [
        "#The dataset has 60,000 images that we'll use to train the model. There is also an additional test set of 10,000 images\n",
        "#used for evaluating models and reporting metrics in papers and reports. We can create the test dataset using the MNIST\n",
        "#class by passing train=False to the constructor.\n",
        "test_dataset = MNIST(root='data/', train=False)\n",
        "len(test_dataset)"
      ],
      "metadata": {
        "colab": {
          "base_uri": "https://localhost:8080/"
        },
        "id": "BBL5-TzlZETC",
        "outputId": "da33b542-1eae-489b-e393-414421251d00"
      },
      "execution_count": 4,
      "outputs": [
        {
          "output_type": "execute_result",
          "data": {
            "text/plain": [
              "10000"
            ]
          },
          "metadata": {},
          "execution_count": 4
        }
      ]
    },
    {
      "cell_type": "code",
      "source": [
        "#sample element from dataset\n",
        "dataset[0]\n",
        "#It's a pair, consisting of a 28x28px image and a label."
      ],
      "metadata": {
        "colab": {
          "base_uri": "https://localhost:8080/"
        },
        "id": "FnKIvK61ZPuT",
        "outputId": "d192aa5f-3211-417e-9ade-fd4fb594ccd0"
      },
      "execution_count": 5,
      "outputs": [
        {
          "output_type": "execute_result",
          "data": {
            "text/plain": [
              "(<PIL.Image.Image image mode=L size=28x28 at 0x7F434C734890>, 5)"
            ]
          },
          "metadata": {},
          "execution_count": 5
        }
      ]
    },
    {
      "cell_type": "code",
      "source": [
        "#We can view the image within Jupyter using matplotlib\n",
        "import matplotlib.pyplot as plt\n",
        "%matplotlib inline\n",
        "\n",
        "image, label = dataset[0]\n",
        "plt.imshow(image, cmap='gray')\n",
        "print('Label:', label)"
      ],
      "metadata": {
        "colab": {
          "base_uri": "https://localhost:8080/",
          "height": 282
        },
        "id": "WHp2PflmZSTo",
        "outputId": "5e990420-d81d-4a4b-9e32-7a5861d6e179"
      },
      "execution_count": 7,
      "outputs": [
        {
          "output_type": "stream",
          "name": "stdout",
          "text": [
            "Label: 5\n"
          ]
        },
        {
          "output_type": "display_data",
          "data": {
            "text/plain": [
              "<Figure size 432x288 with 1 Axes>"
            ],
            "image/png": "[encoded data removed]"
          },
          "metadata": {
            "needs_background": "light"
          }
        }
      ]
    },
    {
      "cell_type": "code",
      "source": [
        "#PyTorch doesn't know how to work with images. \n",
        "#We need to convert the images into tensors. We can do this by specifying a transform while creating our dataset.\n",
        "import torchvision.transforms as transforms\n",
        "\n",
        "# MNIST dataset (images and labels), convert to tensor\n",
        "dataset = MNIST(root='data/', \n",
        "                train=True,\n",
        "                transform=transforms.ToTensor())"
      ],
      "metadata": {
        "id": "yhGdwQe0Zgyy"
      },
      "execution_count": 8,
      "outputs": []
    },
    {
      "cell_type": "code",
      "source": [
        "#Just tensor of above image\n",
        "img_tensor, label = dataset[0]\n",
        "print(img_tensor.shape, label)"
      ],
      "metadata": {
        "colab": {
          "base_uri": "https://localhost:8080/"
        },
        "id": "o309h1OxaBtK",
        "outputId": "69d7ef25-6fd4-4ec0-dbd9-970cda5c6d68"
      },
      "execution_count": 9,
      "outputs": [
        {
          "output_type": "stream",
          "name": "stdout",
          "text": [
            "torch.Size([1, 28, 28]) 5\n"
          ]
        }
      ]
    },
    {
      "cell_type": "code",
      "source": [
        "#The image is now converted to a 1x28x28 tensor. The first dimension tracks color channels.\n",
        "#The second and third dimensions represent pixels along the height and width of the image, respectively.\n",
        "#Since images in the MNIST dataset are grayscale, there's just one channel. \n",
        "#Other datasets have images with color, in which case there are three channels: red, green, and blue (RGB).\n",
        "\n",
        "#Lets look at some values inside thw tensor\n",
        "print(img_tensor[0,10:15,10:15])\n",
        "print(torch.max(img_tensor), torch.min(img_tensor))\n",
        "#The values range from 0 to 1, with 0 representing black, 1 white"
      ],
      "metadata": {
        "colab": {
          "base_uri": "https://localhost:8080/"
        },
        "id": "nf7t7kGSaNxm",
        "outputId": "e89af247-887c-452d-bf27-8782c8b59cf2"
      },
      "execution_count": 10,
      "outputs": [
        {
          "output_type": "stream",
          "name": "stdout",
          "text": [
            "tensor([[0.0039, 0.6039, 0.9922, 0.3529, 0.0000],\n",
            "        [0.0000, 0.5451, 0.9922, 0.7451, 0.0078],\n",
            "        [0.0000, 0.0431, 0.7451, 0.9922, 0.2745],\n",
            "        [0.0000, 0.0000, 0.1373, 0.9451, 0.8824],\n",
            "        [0.0000, 0.0000, 0.0000, 0.3176, 0.9412]])\n",
            "tensor(1.) tensor(0.)\n"
          ]
        }
      ]
    },
    {
      "cell_type": "code",
      "source": [
        "# Plot the image by passing in the 28x28 matrix\n",
        "plt.imshow(img_tensor[0,10:15,10:15], cmap='gray');\n",
        "#pass just the 28x28 matrix to plt.imshow, without a channel dimension"
      ],
      "metadata": {
        "colab": {
          "base_uri": "https://localhost:8080/",
          "height": 265
        },
        "id": "ArjDU4WYaj6-",
        "outputId": "9124af05-5ac9-45f3-89e6-8cf2b4688dbc"
      },
      "execution_count": 11,
      "outputs": [
        {
          "output_type": "display_data",
          "data": {
            "text/plain": [
              "<Figure size 432x288 with 1 Axes>"
            ],
            "image/png": "[encoded data removed]"
          },
          "metadata": {
            "needs_background": "light"
          }
        }
      ]
    },
    {
      "cell_type": "code",
      "source": [
        "#In the MNIST dataset, there are 60,000 training images and 10,000 test images\n",
        "#Validation set - used to evaluate the model during training, adjust hyperparameters, to choose best model\n",
        "\n",
        "#manually split the 60,000 images into training and validation dataset\n",
        "from torch.utils.data import random_split\n",
        "\n",
        "train_ds, val_ds = random_split(dataset, [50000, 10000])\n",
        "len(train_ds), len(val_ds)"
      ],
      "metadata": {
        "colab": {
          "base_uri": "https://localhost:8080/"
        },
        "id": "ap6YL_EcbIUL",
        "outputId": "920d64c3-0dff-4767-88e6-8006b9e60021"
      },
      "execution_count": 12,
      "outputs": [
        {
          "output_type": "execute_result",
          "data": {
            "text/plain": [
              "(50000, 10000)"
            ]
          },
          "metadata": {},
          "execution_count": 12
        }
      ]
    },
    {
      "cell_type": "code",
      "source": [
        "#Data Loader\n",
        "#load data in batches of 128\n",
        "from torch.utils.data import DataLoader\n",
        "\n",
        "batch_size = 128\n",
        "\n",
        "train_loader = DataLoader(train_ds, batch_size, shuffle=True)\n",
        "#shuffle True so batches generated in each epoch are different\n",
        "# This randomization helps generalize & speed up the training process\n",
        "val_loader = DataLoader(val_ds, batch_size)"
      ],
      "metadata": {
        "id": "IMpprpc1bkwC"
      },
      "execution_count": 13,
      "outputs": []
    },
    {
      "cell_type": "code",
      "source": [
        "#Model\n",
        "#logistic regression model is almost identical to a linear regression model. \n",
        "#It contains weights and bias matrices, and the output is obtained using simple\n",
        "#matrix operations (pred = x @ w.t() + b\n",
        "\n",
        "#nn.Linear expects each training example to be a vector, each 1x28x28 image tensor is flattened into a vector of size 784 (28*28)\n",
        "#output for each image is a vector of size 10, with each element signifying the probability \n",
        "#of a particular target label (i.e., 0 to 9). The predicted label for an image is simply the one with the highest probability.\n",
        "\n",
        "import torch.nn as nn\n",
        "\n",
        "input_size = 28*28\n",
        "num_classes = 10\n",
        "\n",
        "# Logistic regression model\n",
        "model = nn.Linear(input_size, num_classes)"
      ],
      "metadata": {
        "id": "jQWUdNyTb9mm"
      },
      "execution_count": 14,
      "outputs": []
    },
    {
      "cell_type": "code",
      "source": [
        "print(model.weight.shape)\n",
        "model.weight"
      ],
      "metadata": {
        "colab": {
          "base_uri": "https://localhost:8080/"
        },
        "id": "0r-zB11gceww",
        "outputId": "bf1d56cc-329b-4c9f-bf93-616aab2d8e92"
      },
      "execution_count": 15,
      "outputs": [
        {
          "output_type": "stream",
          "name": "stdout",
          "text": [
            "torch.Size([10, 784])\n"
          ]
        },
        {
          "output_type": "execute_result",
          "data": {
            "text/plain": [
              "Parameter containing:\n",
              "tensor([[-0.0112, -0.0074,  0.0317,  ...,  0.0091,  0.0071, -0.0247],\n",
              "        [-0.0076,  0.0079, -0.0012,  ...,  0.0239, -0.0199,  0.0242],\n",
              "        [ 0.0069,  0.0240, -0.0241,  ..., -0.0203, -0.0261,  0.0130],\n",
              "        ...,\n",
              "        [ 0.0118,  0.0275,  0.0009,  ..., -0.0190, -0.0015,  0.0229],\n",
              "        [ 0.0011,  0.0012,  0.0030,  ..., -0.0224,  0.0207,  0.0166],\n",
              "        [ 0.0002, -0.0238,  0.0265,  ..., -0.0142, -0.0250, -0.0141]],\n",
              "       requires_grad=True)"
            ]
          },
          "metadata": {},
          "execution_count": 15
        }
      ]
    },
    {
      "cell_type": "code",
      "source": [
        "print(model.bias.shape)\n",
        "model.bias"
      ],
      "metadata": {
        "colab": {
          "base_uri": "https://localhost:8080/"
        },
        "id": "OfRtocgTchzh",
        "outputId": "4751a1b1-6c6b-480f-c22b-8be1aa3cb90d"
      },
      "execution_count": 16,
      "outputs": [
        {
          "output_type": "stream",
          "name": "stdout",
          "text": [
            "torch.Size([10])\n"
          ]
        },
        {
          "output_type": "execute_result",
          "data": {
            "text/plain": [
              "Parameter containing:\n",
              "tensor([-0.0273, -0.0083,  0.0050,  0.0235,  0.0057, -0.0241,  0.0201,  0.0241,\n",
              "        -0.0129, -0.0258], requires_grad=True)"
            ]
          },
          "metadata": {},
          "execution_count": 16
        }
      ]
    },
    {
      "cell_type": "code",
      "source": [
        "#Pass first batch into model\n",
        "for images, labels in train_loader:\n",
        "    print(labels)\n",
        "    print(images.shape)\n",
        "    outputs = model(images)\n",
        "    print(outputs)\n",
        "    break\n",
        "#GIVES ERROR - need to reshape images\n",
        "#Our images are of the shape 1x28x28, but we need them to be vectors of size 784, i.e.,\n",
        "#we need to flatten them. We'll use the .reshape method of a tensor, which will allow us\n",
        "#to efficiently 'view' each image as a flat vector without really creating a copy of the underlying data. \n",
        "\n",
        "#To include this additional functionality within our model, we need to define a \n",
        "#custom model by extending the nn.Module class from PyTorch."
      ],
      "metadata": {
        "id": "7rcYP3S4crah"
      },
      "execution_count": null,
      "outputs": []
    },
    {
      "cell_type": "code",
      "source": [
        "#Custom model extendin nn.Module class from PyTorch\n",
        "class MnistModel(nn.Module):\n",
        "    def __init__(self):\n",
        "        super().__init__()\n",
        "        #instantiate the weights and biases\n",
        "        self.linear = nn.Linear(input_size, num_classes)\n",
        "        \n",
        "    def forward(self, xb):\n",
        "        #we want a view of the xb tensor with two dimensions. The length along the 2nd dimension is 28*28 (i.e., 784).\n",
        "        #One argument to .reshape can be set to -1 (in this case, the first dimension) to \n",
        "        #let PyTorch figure it out automatically based on the shape of the original tensor.\n",
        "        xb = xb.reshape(-1, 784)\n",
        "        out = self.linear(xb)\n",
        "        return out\n",
        "    \n",
        "model = MnistModel()"
      ],
      "metadata": {
        "id": "l1ag6WT5dhXM"
      },
      "execution_count": 19,
      "outputs": []
    },
    {
      "cell_type": "code",
      "source": [
        "print(model.linear.weight.shape, model.linear.bias.shape)\n",
        "list(model.parameters())"
      ],
      "metadata": {
        "colab": {
          "base_uri": "https://localhost:8080/"
        },
        "id": "0wnZ7i67efxQ",
        "outputId": "43e746e6-d5c4-4dbf-af17-e1ec2e4de0fe"
      },
      "execution_count": 20,
      "outputs": [
        {
          "output_type": "stream",
          "name": "stdout",
          "text": [
            "torch.Size([10, 784]) torch.Size([10])\n"
          ]
        },
        {
          "output_type": "execute_result",
          "data": {
            "text/plain": [
              "[Parameter containing:\n",
              " tensor([[-0.0205,  0.0212,  0.0280,  ...,  0.0207, -0.0031, -0.0090],\n",
              "         [-0.0142,  0.0045,  0.0137,  ...,  0.0242, -0.0087,  0.0186],\n",
              "         [-0.0046, -0.0177,  0.0030,  ..., -0.0139, -0.0112,  0.0039],\n",
              "         ...,\n",
              "         [ 0.0199,  0.0177, -0.0292,  ...,  0.0344,  0.0257,  0.0029],\n",
              "         [-0.0011, -0.0111, -0.0313,  ..., -0.0165, -0.0206, -0.0020],\n",
              "         [-0.0055,  0.0201, -0.0074,  ..., -0.0049, -0.0197,  0.0046]],\n",
              "        requires_grad=True), Parameter containing:\n",
              " tensor([ 0.0127, -0.0244, -0.0073, -0.0074, -0.0148, -0.0146, -0.0182,  0.0085,\n",
              "         -0.0268, -0.0017], requires_grad=True)]"
            ]
          },
          "metadata": {},
          "execution_count": 20
        }
      ]
    },
    {
      "cell_type": "code",
      "source": [
        "for images, labels in train_loader:\n",
        "    print(images.shape)\n",
        "    outputs = model(images)\n",
        "    break\n",
        "\n",
        "print('outputs.shape : ', outputs.shape)\n",
        "print('Sample outputs :\\n', outputs[:2].data)"
      ],
      "metadata": {
        "colab": {
          "base_uri": "https://localhost:8080/"
        },
        "id": "VbtuEDThejNk",
        "outputId": "8020a57c-74a6-415e-a098-d7f6053a6b7e"
      },
      "execution_count": 21,
      "outputs": [
        {
          "output_type": "stream",
          "name": "stdout",
          "text": [
            "torch.Size([128, 1, 28, 28])\n",
            "outputs.shape :  torch.Size([128, 10])\n",
            "Sample outputs :\n",
            " tensor([[ 1.0921e-01, -2.2319e-01,  2.4034e-01,  2.0534e-02, -2.7347e-01,\n",
            "          2.3179e-01, -2.1573e-01, -6.1301e-05, -3.3914e-01,  2.0628e-01],\n",
            "        [ 3.4796e-02, -4.9411e-02,  7.5483e-02, -2.0586e-01, -9.9255e-02,\n",
            "          4.6067e-01, -1.3344e-01, -2.2493e-01,  1.0932e-01, -2.0420e-02]])\n"
          ]
        }
      ]
    },
    {
      "cell_type": "code",
      "source": [
        "#For each of the 100 input images, we get 10 outputs, one for each class.\n",
        "#outputs represent probabilities. Each output row's elements must lie between 0 to 1 and add up to 1, which is not the case.\n",
        "#convert the output rows into probabilities, we use the softmax function\n",
        "\n",
        "#softmax function is included in the torch.nn.functional package and requires us\n",
        "#to specify a dimension along which the function should be applied\n",
        "import torch.nn.functional as F\n",
        "outputs[:2]"
      ],
      "metadata": {
        "colab": {
          "base_uri": "https://localhost:8080/"
        },
        "id": "QRbgjsSIervS",
        "outputId": "72f3c127-b874-4161-dff3-dd89896fcebe"
      },
      "execution_count": 22,
      "outputs": [
        {
          "output_type": "execute_result",
          "data": {
            "text/plain": [
              "tensor([[ 1.0921e-01, -2.2319e-01,  2.4034e-01,  2.0534e-02, -2.7347e-01,\n",
              "          2.3179e-01, -2.1573e-01, -6.1301e-05, -3.3914e-01,  2.0628e-01],\n",
              "        [ 3.4796e-02, -4.9411e-02,  7.5483e-02, -2.0586e-01, -9.9255e-02,\n",
              "          4.6067e-01, -1.3344e-01, -2.2493e-01,  1.0932e-01, -2.0420e-02]],\n",
              "       grad_fn=<SliceBackward0>)"
            ]
          },
          "metadata": {},
          "execution_count": 22
        }
      ]
    },
    {
      "cell_type": "code",
      "source": [
        "# Apply softmax for each output row\n",
        "probs = F.softmax(outputs, dim=1)\n",
        "\n",
        "# Look at sample probabilities\n",
        "print(\"Sample probabilities:\\n\", probs[:2].data)\n",
        "\n",
        "# Add up the probabilities of an output row\n",
        "print(\"Sum: \", torch.sum(probs[0]).item())"
      ],
      "metadata": {
        "colab": {
          "base_uri": "https://localhost:8080/"
        },
        "id": "BVtoWNOifE5Y",
        "outputId": "75cb5a65-66d8-4543-90b2-9c5041dc0e72"
      },
      "execution_count": 23,
      "outputs": [
        {
          "output_type": "stream",
          "name": "stdout",
          "text": [
            "Sample probabilities:\n",
            " tensor([[0.1118, 0.0802, 0.1275, 0.1023, 0.0763, 0.1264, 0.0808, 0.1002, 0.0714,\n",
            "         0.1232],\n",
            "        [0.1021, 0.0939, 0.1064, 0.0803, 0.0893, 0.1563, 0.0863, 0.0788, 0.1100,\n",
            "         0.0966]])\n",
            "Sum:  1.0\n"
          ]
        }
      ]
    },
    {
      "cell_type": "code",
      "source": [
        "#determine the predicted label for each image by simply choosing the index of the\n",
        "#element with the highest probability in each output row.\n",
        "max_probs, preds = torch.max(probs, dim=1)\n",
        "print(preds)#predicted labels\n",
        "print(max_probs)\n",
        "labels#actual labels\n",
        "\n",
        "#Most of the predicted labels are different from the actual labels. That's because\n",
        "#we have started with randomly initialized weights and biases. We need to train the \n",
        "#model, i.e., adjust the weights using gradient descent to make better predictions."
      ],
      "metadata": {
        "colab": {
          "base_uri": "https://localhost:8080/"
        },
        "id": "twqyJJ_CfNL9",
        "outputId": "da613a2c-c1a6-4ee2-f878-f55de746e5e5"
      },
      "execution_count": 25,
      "outputs": [
        {
          "output_type": "stream",
          "name": "stdout",
          "text": [
            "tensor([2, 5, 9, 8, 0, 2, 1, 7, 5, 2, 7, 5, 7, 0, 5, 9, 7, 2, 9, 7, 5, 2, 9, 5,\n",
            "        5, 5, 1, 5, 8, 5, 7, 5, 7, 7, 5, 5, 7, 9, 5, 9, 1, 5, 5, 5, 2, 5, 9, 5,\n",
            "        5, 5, 2, 9, 9, 5, 5, 0, 5, 9, 2, 5, 5, 5, 7, 7, 5, 0, 5, 0, 5, 0, 5, 5,\n",
            "        5, 5, 5, 9, 5, 2, 5, 8, 7, 7, 5, 0, 5, 5, 5, 5, 5, 1, 5, 7, 9, 1, 9, 5,\n",
            "        7, 2, 5, 7, 5, 5, 7, 9, 5, 5, 5, 9, 7, 0, 5, 7, 5, 7, 7, 5, 5, 7, 5, 2,\n",
            "        5, 0, 5, 8, 7, 9, 5, 2])\n",
            "tensor([0.1275, 0.1563, 0.1384, 0.1237, 0.1298, 0.1278, 0.1214, 0.1362, 0.1578,\n",
            "        0.1422, 0.1271, 0.1258, 0.1420, 0.1228, 0.1288, 0.1203, 0.1527, 0.1199,\n",
            "        0.1328, 0.1347, 0.1404, 0.1188, 0.1207, 0.1205, 0.1212, 0.1279, 0.1326,\n",
            "        0.1152, 0.1267, 0.1407, 0.1203, 0.1749, 0.1286, 0.1316, 0.1384, 0.1822,\n",
            "        0.1262, 0.1313, 0.1183, 0.1320, 0.1299, 0.1282, 0.1611, 0.1598, 0.1347,\n",
            "        0.1330, 0.1218, 0.1365, 0.1264, 0.1179, 0.1253, 0.1525, 0.1456, 0.1540,\n",
            "        0.1477, 0.1563, 0.1474, 0.1145, 0.1340, 0.1141, 0.1448, 0.1382, 0.1294,\n",
            "        0.1206, 0.1318, 0.1408, 0.1632, 0.1198, 0.1333, 0.1216, 0.1249, 0.1211,\n",
            "        0.1162, 0.1423, 0.1389, 0.1422, 0.1447, 0.1228, 0.1233, 0.1201, 0.1138,\n",
            "        0.1105, 0.1201, 0.1260, 0.1304, 0.1464, 0.1355, 0.1304, 0.1533, 0.1193,\n",
            "        0.1379, 0.1257, 0.1289, 0.1176, 0.1480, 0.1321, 0.1225, 0.1352, 0.1385,\n",
            "        0.1297, 0.1373, 0.1550, 0.1448, 0.1317, 0.1364, 0.1704, 0.1345, 0.1300,\n",
            "        0.1266, 0.1191, 0.1330, 0.1432, 0.1273, 0.1297, 0.1175, 0.1529, 0.1515,\n",
            "        0.1302, 0.1265, 0.1333, 0.1555, 0.1210, 0.1544, 0.1404, 0.1561, 0.1343,\n",
            "        0.1529, 0.1392], grad_fn=<MaxBackward0>)\n"
          ]
        },
        {
          "output_type": "execute_result",
          "data": {
            "text/plain": [
              "tensor([7, 0, 8, 3, 4, 7, 7, 5, 8, 4, 9, 0, 2, 4, 7, 8, 2, 2, 5, 6, 2, 0, 5, 7,\n",
              "        1, 3, 9, 5, 0, 4, 0, 8, 6, 9, 7, 0, 4, 6, 9, 9, 7, 5, 9, 8, 4, 1, 4, 2,\n",
              "        7, 1, 8, 2, 6, 4, 8, 9, 9, 8, 3, 1, 1, 0, 6, 4, 2, 5, 8, 5, 1, 4, 1, 1,\n",
              "        9, 4, 1, 8, 0, 3, 5, 5, 4, 1, 7, 4, 1, 3, 4, 8, 5, 3, 7, 6, 8, 8, 8, 3,\n",
              "        3, 9, 7, 9, 1, 6, 2, 4, 8, 0, 5, 9, 4, 9, 2, 6, 1, 2, 4, 5, 0, 7, 7, 9,\n",
              "        1, 6, 5, 2, 6, 9, 3, 7])"
            ]
          },
          "metadata": {},
          "execution_count": 25
        }
      ]
    },
    {
      "cell_type": "code",
      "source": [
        "torch.sum(preds == labels)"
      ],
      "metadata": {
        "colab": {
          "base_uri": "https://localhost:8080/"
        },
        "id": "cssoZUjNfxMb",
        "outputId": "3b096176-1826-405d-b7e2-d0cb164338c2"
      },
      "execution_count": 26,
      "outputs": [
        {
          "output_type": "execute_result",
          "data": {
            "text/plain": [
              "tensor(12)"
            ]
          },
          "metadata": {},
          "execution_count": 26
        }
      ]
    },
    {
      "cell_type": "code",
      "source": [
        "def accuracy(outputs, labels):\n",
        "    _, preds = torch.max(outputs, dim=1)\n",
        "    return torch.tensor(torch.sum(preds == labels).item() / len(preds))\n",
        "    #we divide by the total number of images to get the accuracy.\n",
        "\n",
        "accuracy(outputs, labels)"
      ],
      "metadata": {
        "colab": {
          "base_uri": "https://localhost:8080/"
        },
        "id": "CEoENkm_f0xs",
        "outputId": "25f85793-531f-4605-a0a6-4d60772f9006"
      },
      "execution_count": 27,
      "outputs": [
        {
          "output_type": "execute_result",
          "data": {
            "text/plain": [
              "tensor(0.0938)"
            ]
          },
          "metadata": {},
          "execution_count": 27
        }
      ]
    },
    {
      "cell_type": "code",
      "source": [
        "probs"
      ],
      "metadata": {
        "colab": {
          "base_uri": "https://localhost:8080/"
        },
        "id": "8Dxx10yzgL15",
        "outputId": "1a33b638-0819-408c-b259-72691ae87742"
      },
      "execution_count": 28,
      "outputs": [
        {
          "output_type": "execute_result",
          "data": {
            "text/plain": [
              "tensor([[0.1118, 0.0802, 0.1275,  ..., 0.1002, 0.0714, 0.1232],\n",
              "        [0.1021, 0.0939, 0.1064,  ..., 0.0788, 0.1100, 0.0966],\n",
              "        [0.0949, 0.0935, 0.1097,  ..., 0.1079, 0.0906, 0.1384],\n",
              "        ...,\n",
              "        [0.1183, 0.0877, 0.1192,  ..., 0.1176, 0.0766, 0.1343],\n",
              "        [0.0907, 0.0819, 0.1228,  ..., 0.0951, 0.0956, 0.0823],\n",
              "        [0.1013, 0.0952, 0.1392,  ..., 0.1154, 0.0781, 0.0883]],\n",
              "       grad_fn=<SoftmaxBackward0>)"
            ]
          },
          "metadata": {},
          "execution_count": 28
        }
      ]
    },
    {
      "cell_type": "markdown",
      "source": [
        "Accuracy is an excellent way for us (humans) to evaluate the model. However, we can't use it as a loss function for optimizing our model using gradient descent for the following reasons:\n",
        "\n",
        "1. It's not a differentiable function. `torch.max` and `==` are both non-continuous and non-differentiable operations, so we can't use the accuracy for computing gradients w.r.t the weights and biases.\n",
        "\n",
        "2. It doesn't take into account the actual probabilities predicted by the model, so it can't provide sufficient feedback for incremental improvements. \n",
        "\n",
        "For these reasons, accuracy is often used as an **evaluation metric** for classification, but not as a loss function. A commonly used loss function for classification problems is the **cross-entropy**, which has the following formula:\n",
        "\n",
        "![cross-entropy](https://i.imgur.com/VDRDl1D.png)\n",
        "\n",
        "While it looks complicated, it's actually quite simple:\n",
        "\n",
        "* For each output row, pick the predicted probability for the correct label. E.g., if the predicted probabilities for an image are `[0.1, 0.3, 0.2, ...]` and the correct label is `1`, we pick the corresponding element `0.3` and ignore the rest.\n",
        "\n",
        "* Then, take the [logarithm](https://en.wikipedia.org/wiki/Logarithm) of the picked probability. If the probability is high, i.e., close to 1, then its logarithm is a very small negative value, close to 0. And if the probability is low (close to 0), then the logarithm is a very large negative value. We also multiply the result by -1, which results is a large postive value of the loss for poor predictions.\n",
        "\n",
        "![](https://www.intmath.com/blog/wp-content/images/2019/05/log10.png)\n",
        "\n",
        "* Finally, take the average of the cross entropy across all the output rows to get the overall loss for a batch of data.\n",
        "\n",
        "Unlike accuracy, cross-entropy is a continuous and differentiable function. It also provides useful feedback for incremental improvements in the model (a slightly higher probability for the correct label leads to a lower loss). These two factors make cross-entropy a better choice for the loss function.\n",
        "\n",
        "As you might expect, PyTorch provides an efficient and tensor-friendly implementation of cross-entropy as part of the `torch.nn.functional` package. Moreover, it also performs softmax internally, so we can directly pass in the model's outputs without converting them into probabilities."
      ],
      "metadata": {
        "id": "QVimWgJSgc-W"
      }
    },
    {
      "cell_type": "code",
      "source": [
        "outputs"
      ],
      "metadata": {
        "colab": {
          "base_uri": "https://localhost:8080/"
        },
        "id": "7MhNfKCngg8v",
        "outputId": "56d00f8a-e1b3-49e8-8aae-81add6bbc904"
      },
      "execution_count": 29,
      "outputs": [
        {
          "output_type": "execute_result",
          "data": {
            "text/plain": [
              "tensor([[ 1.0921e-01, -2.2319e-01,  2.4034e-01,  ..., -6.1301e-05,\n",
              "         -3.3914e-01,  2.0628e-01],\n",
              "        [ 3.4796e-02, -4.9411e-02,  7.5483e-02,  ..., -2.2493e-01,\n",
              "          1.0932e-01, -2.0420e-02],\n",
              "        [-7.7793e-02, -9.3257e-02,  6.7000e-02,  ...,  5.0639e-02,\n",
              "         -1.2421e-01,  2.9919e-01],\n",
              "        ...,\n",
              "        [ 1.5197e-01, -1.4722e-01,  1.5986e-01,  ...,  1.4679e-01,\n",
              "         -2.8168e-01,  2.7895e-01],\n",
              "        [-1.3137e-01, -2.3379e-01,  1.7107e-01,  ..., -8.4364e-02,\n",
              "         -7.9283e-02, -2.2879e-01],\n",
              "        [ 4.3987e-02, -1.7463e-02,  3.6251e-01,  ...,  1.7436e-01,\n",
              "         -2.1613e-01, -9.3096e-02]], grad_fn=<AddmmBackward0>)"
            ]
          },
          "metadata": {},
          "execution_count": 29
        }
      ]
    },
    {
      "cell_type": "code",
      "source": [
        "# Loss for current batch of data\n",
        "loss_fn = F.cross_entropy\n",
        "loss = loss_fn(outputs, labels)\n",
        "print(loss)\n",
        "#e^-2.23 which is around 0.1 as the predicted probability of the correct label, on average.\n",
        "# The lower the loss, The better the model."
      ],
      "metadata": {
        "colab": {
          "base_uri": "https://localhost:8080/"
        },
        "id": "cMllstlygo99",
        "outputId": "be541baa-98bb-4dfe-f84a-bce566a4319b"
      },
      "execution_count": 31,
      "outputs": [
        {
          "output_type": "stream",
          "name": "stdout",
          "text": [
            "tensor(2.3118, grad_fn=<NllLossBackward0>)\n"
          ]
        }
      ]
    },
    {
      "cell_type": "code",
      "source": [
        "#TRAINING THE MODEL\n",
        "#Epoch is a machine learning terminology that refers to the number of passes the\n",
        "#training data goes through machine learning algorithm during the entire data points\n",
        "def evaluate(model, val_loader):\n",
        "    outputs = [model.validation_step(batch) for batch in val_loader]\n",
        "    return model.validation_epoch_end(outputs)\n",
        "\n",
        "def fit(epochs, lr, model, train_loader, val_loader, opt_func=torch.optim.SGD):\n",
        "    optimizer = opt_func(model.parameters(), lr)\n",
        "    history = [] # for recording epoch-wise results\n",
        "    \n",
        "    for epoch in range(epochs):\n",
        "        \n",
        "        # Training Phase \n",
        "        for batch in train_loader:\n",
        "            loss = model.training_step(batch)\n",
        "            loss.backward()\n",
        "            optimizer.step()\n",
        "            optimizer.zero_grad()\n",
        "        \n",
        "        # Validation phase\n",
        "        result = evaluate(model, val_loader)\n",
        "        model.epoch_end(epoch, result)\n",
        "        history.append(result)\n",
        "\n",
        "    return history\n",
        "#records the validation loss and metric from each epoch. It returns a history of\n",
        "#the training, useful for debugging & visualization."
      ],
      "metadata": {
        "id": "Elb2RXuSg9Kj"
      },
      "execution_count": 33,
      "outputs": []
    },
    {
      "cell_type": "code",
      "source": [
        "#redefine the MnistModel class to include additional methods\n",
        "class MnistModel(nn.Module):\n",
        "    def __init__(self):\n",
        "        super().__init__()\n",
        "        self.linear = nn.Linear(input_size, num_classes)\n",
        "        \n",
        "    def forward(self, xb):\n",
        "        xb = xb.reshape(-1, 784)\n",
        "        out = self.linear(xb)\n",
        "        return out\n",
        "    \n",
        "    def training_step(self, batch):\n",
        "        images, labels = batch \n",
        "        out = self(images)                  # Generate predictions\n",
        "        loss = F.cross_entropy(out, labels) # Calculate loss\n",
        "        return loss\n",
        "    \n",
        "    def validation_step(self, batch):\n",
        "        images, labels = batch \n",
        "        out = self(images)                    # Generate predictions\n",
        "        loss = F.cross_entropy(out, labels)   # Calculate loss\n",
        "        acc = accuracy(out, labels)           # Calculate accuracy\n",
        "        return {'val_loss': loss, 'val_acc': acc}\n",
        "        \n",
        "    def validation_epoch_end(self, outputs):\n",
        "        batch_losses = [x['val_loss'] for x in outputs]\n",
        "        epoch_loss = torch.stack(batch_losses).mean()   # Combine losses\n",
        "        batch_accs = [x['val_acc'] for x in outputs]\n",
        "        epoch_acc = torch.stack(batch_accs).mean()      # Combine accuracies\n",
        "        return {'val_loss': epoch_loss.item(), 'val_acc': epoch_acc.item()}\n",
        "    \n",
        "    def epoch_end(self, epoch, result):\n",
        "        print(\"Epoch [{}], val_loss: {:.4f}, val_acc: {:.4f}\".format(epoch, result['val_loss'], result['val_acc']))\n",
        "    \n",
        "model = MnistModel()\n",
        "\n",
        "result0 = evaluate(model, val_loader)\n",
        "result0\n",
        "#Initial accuracy arun 10%"
      ],
      "metadata": {
        "colab": {
          "base_uri": "https://localhost:8080/"
        },
        "id": "7y29IvORhros",
        "outputId": "6158a9e0-8531-49be-8331-f26b5c501e8f"
      },
      "execution_count": 34,
      "outputs": [
        {
          "output_type": "execute_result",
          "data": {
            "text/plain": [
              "{'val_acc': 0.11056170612573624, 'val_loss': 2.3158211708068848}"
            ]
          },
          "metadata": {},
          "execution_count": 34
        }
      ]
    },
    {
      "cell_type": "code",
      "source": [
        "#Train for 5 epoch\n",
        "history1 = fit(5, 0.001, model, train_loader, val_loader)\n",
        "#About 80% accuracy"
      ],
      "metadata": {
        "colab": {
          "base_uri": "https://localhost:8080/"
        },
        "id": "qLcCiggzh9yX",
        "outputId": "d294f6fa-8ab5-4369-adad-cb9a67bb51a7"
      },
      "execution_count": 35,
      "outputs": [
        {
          "output_type": "stream",
          "name": "stdout",
          "text": [
            "Epoch [0], val_loss: 1.9569, val_acc: 0.5980\n",
            "Epoch [1], val_loss: 1.6895, val_acc: 0.7129\n",
            "Epoch [2], val_loss: 1.4880, val_acc: 0.7505\n",
            "Epoch [3], val_loss: 1.3351, val_acc: 0.7753\n",
            "Epoch [4], val_loss: 1.2171, val_acc: 0.7918\n"
          ]
        }
      ]
    },
    {
      "cell_type": "code",
      "source": [
        "#continue training 4 more times\n",
        "history2 = fit(5, 0.001, model, train_loader, val_loader)\n",
        "history3 = fit(5, 0.001, model, train_loader, val_loader)\n",
        "history4 = fit(5, 0.001, model, train_loader, val_loader)\n",
        "history5 = fit(5, 0.001, model, train_loader, val_loader)"
      ],
      "metadata": {
        "colab": {
          "base_uri": "https://localhost:8080/"
        },
        "id": "MH8LkZu0iZ9a",
        "outputId": "0264c715-d11e-41d8-e52f-dfd319465960"
      },
      "execution_count": 36,
      "outputs": [
        {
          "output_type": "stream",
          "name": "stdout",
          "text": [
            "Epoch [0], val_loss: 1.1244, val_acc: 0.8047\n",
            "Epoch [1], val_loss: 1.0499, val_acc: 0.8127\n",
            "Epoch [2], val_loss: 0.9889, val_acc: 0.8186\n",
            "Epoch [3], val_loss: 0.9381, val_acc: 0.8225\n",
            "Epoch [4], val_loss: 0.8951, val_acc: 0.8277\n",
            "Epoch [0], val_loss: 0.8583, val_acc: 0.8317\n",
            "Epoch [1], val_loss: 0.8263, val_acc: 0.8362\n",
            "Epoch [2], val_loss: 0.7983, val_acc: 0.8387\n",
            "Epoch [3], val_loss: 0.7736, val_acc: 0.8420\n",
            "Epoch [4], val_loss: 0.7516, val_acc: 0.8436\n",
            "Epoch [0], val_loss: 0.7318, val_acc: 0.8451\n",
            "Epoch [1], val_loss: 0.7140, val_acc: 0.8466\n",
            "Epoch [2], val_loss: 0.6978, val_acc: 0.8481\n",
            "Epoch [3], val_loss: 0.6830, val_acc: 0.8495\n",
            "Epoch [4], val_loss: 0.6695, val_acc: 0.8520\n",
            "Epoch [0], val_loss: 0.6570, val_acc: 0.8523\n",
            "Epoch [1], val_loss: 0.6455, val_acc: 0.8531\n",
            "Epoch [2], val_loss: 0.6348, val_acc: 0.8546\n",
            "Epoch [3], val_loss: 0.6248, val_acc: 0.8561\n",
            "Epoch [4], val_loss: 0.6156, val_acc: 0.8585\n"
          ]
        }
      ]
    },
    {
      "cell_type": "code",
      "source": [
        "history = [result0] + history1 + history2 + history3 + history4\n",
        "accuracies = [result['val_acc'] for result in history]\n",
        "plt.plot(accuracies, '-x')\n",
        "plt.xlabel('epoch')\n",
        "plt.ylabel('accuracy')\n",
        "plt.title('Accuracy vs. No. of epochs');\n",
        "#Clear that model wont cross 90% accuracy this way\n",
        "\n",
        "#The more likely reason that the model just isn't powerful enough. If you remember\n",
        "#our initial hypothesis, we have assumed that the output (in this case the class probabilities)\n",
        "#is a linear function of the input (pixel intensities), obtained by perfoming a matrix\n",
        "#multiplication with the weights matrix and adding the bias. This is a fairly weak assumption,\n",
        "#as there may not actually exist a linear relationship between the pixel intensities in an image and the digit it represents."
      ],
      "metadata": {
        "colab": {
          "base_uri": "https://localhost:8080/",
          "height": 295
        },
        "id": "3yNamqZhiiTo",
        "outputId": "14e1dd5b-0f92-4b1d-b3c7-dccaa9bf2371"
      },
      "execution_count": 37,
      "outputs": [
        {
          "output_type": "display_data",
          "data": {
            "text/plain": [
              "<Figure size 432x288 with 1 Axes>"
            ],
            "image/png": "[encoded data removed]"
          },
          "metadata": {
            "needs_background": "light"
          }
        }
      ]
    },
    {
      "cell_type": "code",
      "source": [
        "#TEST WITH INDIVIDUAL IMAGES\n",
        "\n",
        "# Define test dataset\n",
        "test_dataset = MNIST(root='data/', \n",
        "                     train=False,\n",
        "                     transform=transforms.ToTensor())\n",
        "\n",
        "#Sample image\n",
        "img, label = test_dataset[0]\n",
        "plt.imshow(img[0], cmap='gray')\n",
        "print('Shape:', img.shape)\n",
        "print('Label:', label)\n",
        "\n",
        "#Function to predict label\n",
        "def predict_image(img, model):\n",
        "    xb = img.unsqueeze(0)\n",
        "    yb = model(xb)\n",
        "    _, preds = torch.max(yb, dim=1)\n",
        "    return preds[0].item()\n",
        "\n",
        "#Trial\n",
        "img, label = test_dataset[0]\n",
        "plt.imshow(img[0], cmap='gray')\n",
        "print('Label:', label, ', Predicted:', predict_image(img, model))\n",
        "#Right"
      ],
      "metadata": {
        "colab": {
          "base_uri": "https://localhost:8080/",
          "height": 317
        },
        "id": "4XWqrdntjFeO",
        "outputId": "69fe2c22-a41e-4a8b-9bca-4d2d7c4e5c52"
      },
      "execution_count": 38,
      "outputs": [
        {
          "output_type": "stream",
          "name": "stdout",
          "text": [
            "Shape: torch.Size([1, 28, 28])\n",
            "Label: 7\n",
            "Label: 7 , Predicted: 7\n"
          ]
        },
        {
          "output_type": "display_data",
          "data": {
            "text/plain": [
              "<Figure size 432x288 with 1 Axes>"
            ],
            "image/png": "[encoded data removed]"
          },
          "metadata": {
            "needs_background": "light"
          }
        }
      ]
    },
    {
      "cell_type": "code",
      "source": [
        "img, label = test_dataset[193]\n",
        "plt.imshow(img[0], cmap='gray')\n",
        "print('Label:', label, ', Predicted:', predict_image(img, model))\n",
        "#Wrong"
      ],
      "metadata": {
        "colab": {
          "base_uri": "https://localhost:8080/",
          "height": 282
        },
        "id": "JPpv2MJDjj5s",
        "outputId": "63bc8d78-8863-4262-d648-6df91c6f5a81"
      },
      "execution_count": 39,
      "outputs": [
        {
          "output_type": "stream",
          "name": "stdout",
          "text": [
            "Label: 9 , Predicted: 9\n"
          ]
        },
        {
          "output_type": "display_data",
          "data": {
            "text/plain": [
              "<Figure size 432x288 with 1 Axes>"
            ],
            "image/png": "[encoded data removed]"
          },
          "metadata": {
            "needs_background": "light"
          }
        }
      ]
    },
    {
      "cell_type": "code",
      "source": [
        "img, label = test_dataset[1839]\n",
        "plt.imshow(img[0], cmap='gray')\n",
        "print('Label:', label, ', Predicted:', predict_image(img, model))\n",
        "#Wrong"
      ],
      "metadata": {
        "colab": {
          "base_uri": "https://localhost:8080/",
          "height": 282
        },
        "id": "XQCGlvD3jrP1",
        "outputId": "cf15ac2e-0e25-4b26-b549-dbb9400576d4"
      },
      "execution_count": 40,
      "outputs": [
        {
          "output_type": "stream",
          "name": "stdout",
          "text": [
            "Label: 2 , Predicted: 8\n"
          ]
        },
        {
          "output_type": "display_data",
          "data": {
            "text/plain": [
              "<Figure size 432x288 with 1 Axes>"
            ],
            "image/png": "[encoded data removed]"
          },
          "metadata": {
            "needs_background": "light"
          }
        }
      ]
    },
    {
      "cell_type": "code",
      "source": [
        "#Accuracy and loss\n",
        "test_loader = DataLoader(test_dataset, batch_size=256)\n",
        "result = evaluate(model, test_loader)\n",
        "result"
      ],
      "metadata": {
        "colab": {
          "base_uri": "https://localhost:8080/"
        },
        "id": "mGchLZIdjy7K",
        "outputId": "90242a2f-fd37-4b25-dff7-0bb389790bda"
      },
      "execution_count": 41,
      "outputs": [
        {
          "output_type": "execute_result",
          "data": {
            "text/plain": [
              "{'val_acc': 0.86572265625, 'val_loss': 0.589422881603241}"
            ]
          },
          "metadata": {},
          "execution_count": 41
        }
      ]
    },
    {
      "cell_type": "code",
      "source": [
        "#SAVING AND LOADING THE MODEL\n",
        "#For this to work in Colan allow Google Drive access\n",
        "#Not doing so in this example\n",
        "\n",
        "#To save\n",
        "\n",
        "#The .state_dict method returns an OrderedDict containing all the weights and bias\n",
        "#  matrices mapped to the right attributes of the model.\n",
        "torch.save(model.state_dict(), 'mnist-logistic.pth')"
      ],
      "metadata": {
        "id": "Ie1mTQ3jj9Rv"
      },
      "execution_count": 42,
      "outputs": []
    },
    {
      "cell_type": "code",
      "source": [
        "#To load\n",
        "model2 = MnistModel()\n",
        "model2.load_state_dict(torch.load('mnist-logistic.pth'))\n",
        "test_loader = DataLoader(test_dataset, batch_size=256)\n",
        "result = evaluate(model2, test_loader)\n",
        "print(model2.state_dict())\n",
        "print(result)"
      ],
      "metadata": {
        "colab": {
          "base_uri": "https://localhost:8080/"
        },
        "id": "ibqKICPikTiV",
        "outputId": "aa562baf-2e69-48ce-9fc0-4c9a9b23147a"
      },
      "execution_count": 44,
      "outputs": [
        {
          "output_type": "stream",
          "name": "stdout",
          "text": [
            "OrderedDict([('linear.weight', tensor([[ 0.0176, -0.0104,  0.0048,  ..., -0.0262,  0.0210, -0.0151],\n",
            "        [-0.0148, -0.0167,  0.0261,  ...,  0.0136,  0.0045,  0.0035],\n",
            "        [ 0.0328, -0.0110, -0.0192,  ..., -0.0105, -0.0182,  0.0285],\n",
            "        ...,\n",
            "        [ 0.0100,  0.0171, -0.0076,  ...,  0.0349,  0.0343, -0.0352],\n",
            "        [-0.0129,  0.0345,  0.0357,  ...,  0.0056, -0.0133,  0.0270],\n",
            "        [-0.0142, -0.0264, -0.0042,  ..., -0.0245, -0.0239,  0.0284]])), ('linear.bias', tensor([-0.0700,  0.0981, -0.0460, -0.0401,  0.0557,  0.0209,  0.0241,  0.0681,\n",
            "        -0.1397, -0.0176]))])\n",
            "{'val_loss': 0.589422881603241, 'val_acc': 0.86572265625}\n"
          ]
        }
      ]
    }
  ]
}